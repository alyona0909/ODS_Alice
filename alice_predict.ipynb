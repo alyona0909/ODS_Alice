{
 "cells": [
  {
   "cell_type": "code",
   "execution_count": 1,
   "metadata": {},
   "outputs": [],
   "source": [
    "import pandas as pd\n",
    "import pickle\n",
    "import numpy as np\n",
    "import matplotlib.pyplot as plt\n",
    "plt.style.use('ggplot')\n",
    "from category_encoders.target_encoder import TargetEncoder\n",
    "import re\n",
    "from sklearn.feature_extraction.text import CountVectorizer, TfidfVectorizer\n",
    "from sklearn.utils import resample\n",
    "from sklearn.model_selection import train_test_split, TimeSeriesSplit\n",
    "from sklearn.preprocessing import StandardScaler, MaxAbsScaler\n",
    "from sklearn.linear_model import LogisticRegression\n",
    "from sklearn import metrics\n",
    "from scipy.sparse import hstack, coo_matrix\n",
    "from sklearn.preprocessing import OneHotEncoder\n",
    "from sklearn.model_selection import GridSearchCV\n",
    "\n",
    "import warnings\n",
    "warnings.filterwarnings('ignore')"
   ]
  },
  {
   "cell_type": "markdown",
   "metadata": {},
   "source": [
    "## Чтение данных"
   ]
  },
  {
   "cell_type": "code",
   "execution_count": 2,
   "metadata": {},
   "outputs": [
    {
     "data": {
      "text/html": [
       "<div>\n",
       "<style scoped>\n",
       "    .dataframe tbody tr th:only-of-type {\n",
       "        vertical-align: middle;\n",
       "    }\n",
       "\n",
       "    .dataframe tbody tr th {\n",
       "        vertical-align: top;\n",
       "    }\n",
       "\n",
       "    .dataframe thead th {\n",
       "        text-align: right;\n",
       "    }\n",
       "</style>\n",
       "<table border=\"1\" class=\"dataframe\">\n",
       "  <thead>\n",
       "    <tr style=\"text-align: right;\">\n",
       "      <th></th>\n",
       "      <th>site1</th>\n",
       "      <th>time1</th>\n",
       "      <th>site2</th>\n",
       "      <th>time2</th>\n",
       "      <th>site3</th>\n",
       "      <th>time3</th>\n",
       "      <th>site4</th>\n",
       "      <th>time4</th>\n",
       "      <th>site5</th>\n",
       "      <th>time5</th>\n",
       "      <th>...</th>\n",
       "      <th>time6</th>\n",
       "      <th>site7</th>\n",
       "      <th>time7</th>\n",
       "      <th>site8</th>\n",
       "      <th>time8</th>\n",
       "      <th>site9</th>\n",
       "      <th>time9</th>\n",
       "      <th>site10</th>\n",
       "      <th>time10</th>\n",
       "      <th>target</th>\n",
       "    </tr>\n",
       "    <tr>\n",
       "      <th>session_id</th>\n",
       "      <th></th>\n",
       "      <th></th>\n",
       "      <th></th>\n",
       "      <th></th>\n",
       "      <th></th>\n",
       "      <th></th>\n",
       "      <th></th>\n",
       "      <th></th>\n",
       "      <th></th>\n",
       "      <th></th>\n",
       "      <th></th>\n",
       "      <th></th>\n",
       "      <th></th>\n",
       "      <th></th>\n",
       "      <th></th>\n",
       "      <th></th>\n",
       "      <th></th>\n",
       "      <th></th>\n",
       "      <th></th>\n",
       "      <th></th>\n",
       "      <th></th>\n",
       "    </tr>\n",
       "  </thead>\n",
       "  <tbody>\n",
       "    <tr>\n",
       "      <th>27554</th>\n",
       "      <td>41475</td>\n",
       "      <td>2013-11-15 07:39:35</td>\n",
       "      <td>6725.0</td>\n",
       "      <td>2013-11-15 07:39:35</td>\n",
       "      <td>6725.0</td>\n",
       "      <td>2013-11-15 07:39:36</td>\n",
       "      <td>41475.0</td>\n",
       "      <td>2013-11-15 07:39:36</td>\n",
       "      <td>41476.0</td>\n",
       "      <td>2013-11-15 07:39:40</td>\n",
       "      <td>...</td>\n",
       "      <td>2013-11-15 07:39:41</td>\n",
       "      <td>6725.0</td>\n",
       "      <td>2013-11-15 07:42:50</td>\n",
       "      <td>41475.0</td>\n",
       "      <td>2013-11-15 07:42:50</td>\n",
       "      <td>41476.0</td>\n",
       "      <td>2013-11-15 07:42:50</td>\n",
       "      <td>6725.0</td>\n",
       "      <td>2013-11-15 07:44:25</td>\n",
       "      <td>0</td>\n",
       "    </tr>\n",
       "    <tr>\n",
       "      <th>81350</th>\n",
       "      <td>41476</td>\n",
       "      <td>2013-11-15 07:44:25</td>\n",
       "      <td>41475.0</td>\n",
       "      <td>2013-11-15 07:44:25</td>\n",
       "      <td>41476.0</td>\n",
       "      <td>2013-11-15 07:57:45</td>\n",
       "      <td>6725.0</td>\n",
       "      <td>2013-11-15 07:57:45</td>\n",
       "      <td>41475.0</td>\n",
       "      <td>2013-11-15 07:57:45</td>\n",
       "      <td>...</td>\n",
       "      <td>2013-11-15 07:57:46</td>\n",
       "      <td>41476.0</td>\n",
       "      <td>2013-11-15 07:57:47</td>\n",
       "      <td>6725.0</td>\n",
       "      <td>2013-11-15 07:57:49</td>\n",
       "      <td>41475.0</td>\n",
       "      <td>2013-11-15 07:57:49</td>\n",
       "      <td>41476.0</td>\n",
       "      <td>2013-11-15 07:57:49</td>\n",
       "      <td>0</td>\n",
       "    </tr>\n",
       "    <tr>\n",
       "      <th>234665</th>\n",
       "      <td>4802</td>\n",
       "      <td>2013-11-15 07:52:17</td>\n",
       "      <td>23.0</td>\n",
       "      <td>2013-11-15 07:52:18</td>\n",
       "      <td>4803.0</td>\n",
       "      <td>2013-11-15 07:52:19</td>\n",
       "      <td>38.0</td>\n",
       "      <td>2013-11-15 07:52:19</td>\n",
       "      <td>38.0</td>\n",
       "      <td>2013-11-15 07:52:20</td>\n",
       "      <td>...</td>\n",
       "      <td>2013-11-15 07:52:20</td>\n",
       "      <td>4804.0</td>\n",
       "      <td>2013-11-15 07:52:23</td>\n",
       "      <td>21.0</td>\n",
       "      <td>2013-11-15 07:52:26</td>\n",
       "      <td>23.0</td>\n",
       "      <td>2013-11-15 07:52:26</td>\n",
       "      <td>22.0</td>\n",
       "      <td>2013-11-15 07:52:28</td>\n",
       "      <td>0</td>\n",
       "    </tr>\n",
       "    <tr>\n",
       "      <th>97610</th>\n",
       "      <td>23</td>\n",
       "      <td>2013-11-15 07:52:28</td>\n",
       "      <td>23.0</td>\n",
       "      <td>2013-11-15 07:52:29</td>\n",
       "      <td>22.0</td>\n",
       "      <td>2013-11-15 07:52:37</td>\n",
       "      <td>21.0</td>\n",
       "      <td>2013-11-15 07:52:37</td>\n",
       "      <td>63.0</td>\n",
       "      <td>2013-11-15 07:55:10</td>\n",
       "      <td>...</td>\n",
       "      <td>2013-11-15 07:55:10</td>\n",
       "      <td>784.0</td>\n",
       "      <td>2013-11-15 07:55:56</td>\n",
       "      <td>4804.0</td>\n",
       "      <td>2013-11-15 07:57:50</td>\n",
       "      <td>4804.0</td>\n",
       "      <td>2013-11-15 08:01:18</td>\n",
       "      <td>784.0</td>\n",
       "      <td>2013-11-15 08:01:26</td>\n",
       "      <td>0</td>\n",
       "    </tr>\n",
       "    <tr>\n",
       "      <th>161358</th>\n",
       "      <td>41476</td>\n",
       "      <td>2013-11-15 07:57:50</td>\n",
       "      <td>41476.0</td>\n",
       "      <td>2013-11-15 07:57:51</td>\n",
       "      <td>6725.0</td>\n",
       "      <td>2013-11-15 07:59:34</td>\n",
       "      <td>41475.0</td>\n",
       "      <td>2013-11-15 07:59:34</td>\n",
       "      <td>41476.0</td>\n",
       "      <td>2013-11-15 07:59:34</td>\n",
       "      <td>...</td>\n",
       "      <td>NaT</td>\n",
       "      <td>NaN</td>\n",
       "      <td>NaT</td>\n",
       "      <td>NaN</td>\n",
       "      <td>NaT</td>\n",
       "      <td>NaN</td>\n",
       "      <td>NaT</td>\n",
       "      <td>NaN</td>\n",
       "      <td>NaT</td>\n",
       "      <td>0</td>\n",
       "    </tr>\n",
       "    <tr>\n",
       "      <th>...</th>\n",
       "      <td>...</td>\n",
       "      <td>...</td>\n",
       "      <td>...</td>\n",
       "      <td>...</td>\n",
       "      <td>...</td>\n",
       "      <td>...</td>\n",
       "      <td>...</td>\n",
       "      <td>...</td>\n",
       "      <td>...</td>\n",
       "      <td>...</td>\n",
       "      <td>...</td>\n",
       "      <td>...</td>\n",
       "      <td>...</td>\n",
       "      <td>...</td>\n",
       "      <td>...</td>\n",
       "      <td>...</td>\n",
       "      <td>...</td>\n",
       "      <td>...</td>\n",
       "      <td>...</td>\n",
       "      <td>...</td>\n",
       "      <td>...</td>\n",
       "    </tr>\n",
       "    <tr>\n",
       "      <th>129606</th>\n",
       "      <td>6003</td>\n",
       "      <td>2014-05-03 18:06:13</td>\n",
       "      <td>NaN</td>\n",
       "      <td>NaT</td>\n",
       "      <td>NaN</td>\n",
       "      <td>NaT</td>\n",
       "      <td>NaN</td>\n",
       "      <td>NaT</td>\n",
       "      <td>NaN</td>\n",
       "      <td>NaT</td>\n",
       "      <td>...</td>\n",
       "      <td>NaT</td>\n",
       "      <td>NaN</td>\n",
       "      <td>NaT</td>\n",
       "      <td>NaN</td>\n",
       "      <td>NaT</td>\n",
       "      <td>NaN</td>\n",
       "      <td>NaT</td>\n",
       "      <td>NaN</td>\n",
       "      <td>NaT</td>\n",
       "      <td>0</td>\n",
       "    </tr>\n",
       "    <tr>\n",
       "      <th>53628</th>\n",
       "      <td>6003</td>\n",
       "      <td>2014-05-03 18:09:26</td>\n",
       "      <td>NaN</td>\n",
       "      <td>NaT</td>\n",
       "      <td>NaN</td>\n",
       "      <td>NaT</td>\n",
       "      <td>NaN</td>\n",
       "      <td>NaT</td>\n",
       "      <td>NaN</td>\n",
       "      <td>NaT</td>\n",
       "      <td>...</td>\n",
       "      <td>NaT</td>\n",
       "      <td>NaN</td>\n",
       "      <td>NaT</td>\n",
       "      <td>NaN</td>\n",
       "      <td>NaT</td>\n",
       "      <td>NaN</td>\n",
       "      <td>NaT</td>\n",
       "      <td>NaN</td>\n",
       "      <td>NaT</td>\n",
       "      <td>0</td>\n",
       "    </tr>\n",
       "    <tr>\n",
       "      <th>84754</th>\n",
       "      <td>6003</td>\n",
       "      <td>2014-05-03 18:11:21</td>\n",
       "      <td>NaN</td>\n",
       "      <td>NaT</td>\n",
       "      <td>NaN</td>\n",
       "      <td>NaT</td>\n",
       "      <td>NaN</td>\n",
       "      <td>NaT</td>\n",
       "      <td>NaN</td>\n",
       "      <td>NaT</td>\n",
       "      <td>...</td>\n",
       "      <td>NaT</td>\n",
       "      <td>NaN</td>\n",
       "      <td>NaT</td>\n",
       "      <td>NaN</td>\n",
       "      <td>NaT</td>\n",
       "      <td>NaN</td>\n",
       "      <td>NaT</td>\n",
       "      <td>NaN</td>\n",
       "      <td>NaT</td>\n",
       "      <td>0</td>\n",
       "    </tr>\n",
       "    <tr>\n",
       "      <th>153398</th>\n",
       "      <td>6003</td>\n",
       "      <td>2014-05-03 18:15:57</td>\n",
       "      <td>6003.0</td>\n",
       "      <td>2014-05-03 18:15:58</td>\n",
       "      <td>NaN</td>\n",
       "      <td>NaT</td>\n",
       "      <td>NaN</td>\n",
       "      <td>NaT</td>\n",
       "      <td>NaN</td>\n",
       "      <td>NaT</td>\n",
       "      <td>...</td>\n",
       "      <td>NaT</td>\n",
       "      <td>NaN</td>\n",
       "      <td>NaT</td>\n",
       "      <td>NaN</td>\n",
       "      <td>NaT</td>\n",
       "      <td>NaN</td>\n",
       "      <td>NaT</td>\n",
       "      <td>NaN</td>\n",
       "      <td>NaT</td>\n",
       "      <td>0</td>\n",
       "    </tr>\n",
       "    <tr>\n",
       "      <th>11690</th>\n",
       "      <td>305</td>\n",
       "      <td>2014-05-04 17:30:57</td>\n",
       "      <td>306.0</td>\n",
       "      <td>2014-05-04 17:30:58</td>\n",
       "      <td>306.0</td>\n",
       "      <td>2014-05-04 17:31:00</td>\n",
       "      <td>979.0</td>\n",
       "      <td>2014-05-04 17:33:07</td>\n",
       "      <td>NaN</td>\n",
       "      <td>NaT</td>\n",
       "      <td>...</td>\n",
       "      <td>NaT</td>\n",
       "      <td>NaN</td>\n",
       "      <td>NaT</td>\n",
       "      <td>NaN</td>\n",
       "      <td>NaT</td>\n",
       "      <td>NaN</td>\n",
       "      <td>NaT</td>\n",
       "      <td>NaN</td>\n",
       "      <td>NaT</td>\n",
       "      <td>0</td>\n",
       "    </tr>\n",
       "  </tbody>\n",
       "</table>\n",
       "<p>253561 rows × 21 columns</p>\n",
       "</div>"
      ],
      "text/plain": [
       "            site1               time1    site2               time2    site3  \\\n",
       "session_id                                                                    \n",
       "27554       41475 2013-11-15 07:39:35   6725.0 2013-11-15 07:39:35   6725.0   \n",
       "81350       41476 2013-11-15 07:44:25  41475.0 2013-11-15 07:44:25  41476.0   \n",
       "234665       4802 2013-11-15 07:52:17     23.0 2013-11-15 07:52:18   4803.0   \n",
       "97610          23 2013-11-15 07:52:28     23.0 2013-11-15 07:52:29     22.0   \n",
       "161358      41476 2013-11-15 07:57:50  41476.0 2013-11-15 07:57:51   6725.0   \n",
       "...           ...                 ...      ...                 ...      ...   \n",
       "129606       6003 2014-05-03 18:06:13      NaN                 NaT      NaN   \n",
       "53628        6003 2014-05-03 18:09:26      NaN                 NaT      NaN   \n",
       "84754        6003 2014-05-03 18:11:21      NaN                 NaT      NaN   \n",
       "153398       6003 2014-05-03 18:15:57   6003.0 2014-05-03 18:15:58      NaN   \n",
       "11690         305 2014-05-04 17:30:57    306.0 2014-05-04 17:30:58    306.0   \n",
       "\n",
       "                         time3    site4               time4    site5  \\\n",
       "session_id                                                             \n",
       "27554      2013-11-15 07:39:36  41475.0 2013-11-15 07:39:36  41476.0   \n",
       "81350      2013-11-15 07:57:45   6725.0 2013-11-15 07:57:45  41475.0   \n",
       "234665     2013-11-15 07:52:19     38.0 2013-11-15 07:52:19     38.0   \n",
       "97610      2013-11-15 07:52:37     21.0 2013-11-15 07:52:37     63.0   \n",
       "161358     2013-11-15 07:59:34  41475.0 2013-11-15 07:59:34  41476.0   \n",
       "...                        ...      ...                 ...      ...   \n",
       "129606                     NaT      NaN                 NaT      NaN   \n",
       "53628                      NaT      NaN                 NaT      NaN   \n",
       "84754                      NaT      NaN                 NaT      NaN   \n",
       "153398                     NaT      NaN                 NaT      NaN   \n",
       "11690      2014-05-04 17:31:00    979.0 2014-05-04 17:33:07      NaN   \n",
       "\n",
       "                         time5  ...               time6    site7  \\\n",
       "session_id                      ...                                \n",
       "27554      2013-11-15 07:39:40  ... 2013-11-15 07:39:41   6725.0   \n",
       "81350      2013-11-15 07:57:45  ... 2013-11-15 07:57:46  41476.0   \n",
       "234665     2013-11-15 07:52:20  ... 2013-11-15 07:52:20   4804.0   \n",
       "97610      2013-11-15 07:55:10  ... 2013-11-15 07:55:10    784.0   \n",
       "161358     2013-11-15 07:59:34  ...                 NaT      NaN   \n",
       "...                        ...  ...                 ...      ...   \n",
       "129606                     NaT  ...                 NaT      NaN   \n",
       "53628                      NaT  ...                 NaT      NaN   \n",
       "84754                      NaT  ...                 NaT      NaN   \n",
       "153398                     NaT  ...                 NaT      NaN   \n",
       "11690                      NaT  ...                 NaT      NaN   \n",
       "\n",
       "                         time7    site8               time8    site9  \\\n",
       "session_id                                                             \n",
       "27554      2013-11-15 07:42:50  41475.0 2013-11-15 07:42:50  41476.0   \n",
       "81350      2013-11-15 07:57:47   6725.0 2013-11-15 07:57:49  41475.0   \n",
       "234665     2013-11-15 07:52:23     21.0 2013-11-15 07:52:26     23.0   \n",
       "97610      2013-11-15 07:55:56   4804.0 2013-11-15 07:57:50   4804.0   \n",
       "161358                     NaT      NaN                 NaT      NaN   \n",
       "...                        ...      ...                 ...      ...   \n",
       "129606                     NaT      NaN                 NaT      NaN   \n",
       "53628                      NaT      NaN                 NaT      NaN   \n",
       "84754                      NaT      NaN                 NaT      NaN   \n",
       "153398                     NaT      NaN                 NaT      NaN   \n",
       "11690                      NaT      NaN                 NaT      NaN   \n",
       "\n",
       "                         time9   site10              time10 target  \n",
       "session_id                                                          \n",
       "27554      2013-11-15 07:42:50   6725.0 2013-11-15 07:44:25      0  \n",
       "81350      2013-11-15 07:57:49  41476.0 2013-11-15 07:57:49      0  \n",
       "234665     2013-11-15 07:52:26     22.0 2013-11-15 07:52:28      0  \n",
       "97610      2013-11-15 08:01:18    784.0 2013-11-15 08:01:26      0  \n",
       "161358                     NaT      NaN                 NaT      0  \n",
       "...                        ...      ...                 ...    ...  \n",
       "129606                     NaT      NaN                 NaT      0  \n",
       "53628                      NaT      NaN                 NaT      0  \n",
       "84754                      NaT      NaN                 NaT      0  \n",
       "153398                     NaT      NaN                 NaT      0  \n",
       "11690                      NaT      NaN                 NaT      0  \n",
       "\n",
       "[253561 rows x 21 columns]"
      ]
     },
     "execution_count": 2,
     "metadata": {},
     "output_type": "execute_result"
    }
   ],
   "source": [
    "times = ['time'+str(i) for i in range(1,11)]\n",
    "\n",
    "train_df = pd.read_csv('train.csv',\n",
    "                       index_col='session_id', parse_dates=times)\n",
    "train_df = train_df.dropna(subset=['target'])\n",
    "\n",
    "test_df = pd.read_csv('test.csv',\n",
    "                      index_col='session_id', parse_dates=['time1'])\n",
    "\n",
    "train_df = train_df.sort_values(by='time1')\n",
    "\n",
    "train_df"
   ]
  },
  {
   "cell_type": "code",
   "execution_count": 3,
   "metadata": {},
   "outputs": [],
   "source": [
    "with open(r\"site_dic.pkl\", \"rb\") as input_file:\n",
    "    site_to_num_dict = pickle.load(input_file)\n",
    "    \n",
    "num_to_site_dict = {}\n",
    "for key in site_to_num_dict:\n",
    "    num_to_site_dict[site_to_num_dict[key]] = key"
   ]
  },
  {
   "cell_type": "markdown",
   "metadata": {},
   "source": [
    "## Работа только с сайтами:\n",
    "\n",
    "Тестируем датасеты:\n",
    "* только сайты + CountVectorizer/TfIdf + standardScaler/MaxAbsScaler\n",
    "* сайты + домены + CountVectorizer/TfIdf + standardScaler/MaxAbsScaler"
   ]
  },
  {
   "cell_type": "code",
   "execution_count": 4,
   "metadata": {},
   "outputs": [],
   "source": [
    "# определим домен для каждого посещенного сайта (.ru, .com)\n",
    "for i in range(1, 11):\n",
    "    train_df[f\"site{i}_domen\"] = train_df[f\"site{i}\"].apply(lambda x: num_to_site_dict[x].split('.')[-1] \n",
    "                                                    if not np.isnan(x) and re.findall('[1-9]', num_to_site_dict[x].split('.')[-1]) == []\n",
    "                                                           else ('undefined' if np.isnan(x) else 'domen'))\n",
    "    \n",
    "for i in range(1, 11):\n",
    "    test_df[f\"site{i}_domen\"] = test_df[f\"site{i}\"].apply(lambda x: num_to_site_dict[x].split('.')[-1] \n",
    "                                                    if not np.isnan(x) and re.findall('[1-9]', num_to_site_dict[x].split('.')[-1]) == []\n",
    "                                                           else ('undefined' if np.isnan(x) else 'domen'))"
   ]
  },
  {
   "cell_type": "code",
   "execution_count": 5,
   "metadata": {},
   "outputs": [],
   "source": [
    "# заполним пустые значения в сайтах 0\n",
    "for i in range(1, 11):\n",
    "    train_df[f\"site{i}\"] = train_df[f\"site{i}\"].apply(lambda x: x if not np.isnan(x) else 0).astype(int)\n",
    "    \n",
    "for i in range(1, 11):\n",
    "    test_df[f\"site{i}\"] = test_df[f\"site{i}\"].apply(lambda x: x if not np.isnan(x) else 0).astype(int)"
   ]
  },
  {
   "cell_type": "markdown",
   "metadata": {},
   "source": [
    "## Only sites"
   ]
  },
  {
   "cell_type": "code",
   "execution_count": 6,
   "metadata": {},
   "outputs": [],
   "source": [
    "X = train_df.drop(times, axis=1)\n",
    "X = X.drop(\"target\", axis=1)\n",
    "\n",
    "sites = ['site'+str(i) for i in range(1,11)]\n",
    "X_sites = X[sites]\n",
    "\n",
    "y = train_df[\"target\"]"
   ]
  },
  {
   "cell_type": "code",
   "execution_count": 7,
   "metadata": {},
   "outputs": [],
   "source": [
    "# создадим одну строку с посещенными сайтами\n",
    "X_sites = X_sites.apply(lambda x: ' '.join([str(x.site1), str(x.site2), str(x.site3), str(x.site4),\n",
    "                                                        str(x.site5), str(x.site6), str(x.site7), str(x.site8),\n",
    "                                                        str(x.site9), str(x.site10)]), axis=1)\n",
    "\n",
    "test = test_df[sites].apply(lambda x: ' '.join([str(x.site1), str(x.site2), str(x.site3), str(x.site4),\n",
    "                                                        str(x.site5), str(x.site6), str(x.site7), str(x.site8),\n",
    "                                                        str(x.site9), str(x.site10)]), axis=1)"
   ]
  },
  {
   "cell_type": "code",
   "execution_count": 8,
   "metadata": {},
   "outputs": [],
   "source": [
    "X_sites_train, X_sites_test, y_train, y_test = train_test_split(X_sites, y, test_size=0.3, random_state=42)"
   ]
  },
  {
   "cell_type": "markdown",
   "metadata": {},
   "source": [
    "### CountVectorizer"
   ]
  },
  {
   "cell_type": "code",
   "execution_count": 9,
   "metadata": {},
   "outputs": [],
   "source": [
    "n_ngram = 3\n",
    "\n",
    "cv = CountVectorizer(ngram_range=(1, n_ngram), max_features=50000)\n",
    "X_sites_train_cv_transform = cv.fit_transform(X_sites_train)\n",
    "X_sites_test_cv_transform = cv.transform(X_sites_test)\n",
    "\n",
    "X_sites_cv = cv.fit_transform(X_sites)\n",
    "test_cv = cv.transform(test)"
   ]
  },
  {
   "cell_type": "code",
   "execution_count": 10,
   "metadata": {},
   "outputs": [
    {
     "data": {
      "text/plain": [
       "((177492, 50000), (76069, 50000), (82797, 50000))"
      ]
     },
     "execution_count": 10,
     "metadata": {},
     "output_type": "execute_result"
    }
   ],
   "source": [
    "X_sites_train_cv_transform.shape, X_sites_test_cv_transform.shape, test_cv.shape"
   ]
  },
  {
   "cell_type": "code",
   "execution_count": 11,
   "metadata": {},
   "outputs": [],
   "source": [
    "def get_auc_lr_valid(X_train, X_test, y_train, y_test=None, C=1.0, seed=42, \n",
    "                     scaled=False, max_abs = False, \n",
    "                     for_test=False, out_file='predictions.csv'):\n",
    "    \n",
    "    if scaled:\n",
    "        st = StandardScaler(with_mean=False)\n",
    "        X_train = st.fit_transform(X_train)\n",
    "        X_test = st.transform(X_test)\n",
    "        \n",
    "    if max_abs:\n",
    "        min_max = MaxAbsScaler()\n",
    "        X_train = min_max.fit_transform(X_train)\n",
    "        X_test = min_max.transform(X_test)\n",
    "    \n",
    "    lr = LogisticRegression(C=C, random_state=seed, solver='lbfgs', max_iter=500)\n",
    "    lr.fit(X_train, y_train)\n",
    "    \n",
    "    if for_test:\n",
    "        preds = lr.predict_proba(X_test)[:, 1]\n",
    "        predicted_df = pd.DataFrame(preds,\n",
    "                                index = range(1, preds.shape[0] + 1),\n",
    "                                columns=[\"target\"])\n",
    "        predicted_df.to_csv(out_file, index_label=\"session_id\")\n",
    "        return 'Done!'\n",
    "    else:\n",
    "        preds = lr.predict_proba(X_test)[:, 1]\n",
    "        score = metrics.roc_auc_score(y_test, preds)\n",
    "        return score"
   ]
  },
  {
   "cell_type": "code",
   "execution_count": 12,
   "metadata": {},
   "outputs": [
    {
     "name": "stdout",
     "output_type": "stream",
     "text": [
      "CPU times: user 21.9 s, sys: 260 ms, total: 22.1 s\n",
      "Wall time: 5.78 s\n"
     ]
    },
    {
     "data": {
      "text/plain": [
       "0.9557008987267194"
      ]
     },
     "execution_count": 12,
     "metadata": {},
     "output_type": "execute_result"
    }
   ],
   "source": [
    "%%time\n",
    "\n",
    "get_auc_lr_valid(X_sites_train_cv_transform, X_sites_test_cv_transform, y_train, y_test)"
   ]
  },
  {
   "cell_type": "code",
   "execution_count": 13,
   "metadata": {},
   "outputs": [
    {
     "name": "stdout",
     "output_type": "stream",
     "text": [
      "CPU times: user 44.2 s, sys: 696 ms, total: 44.9 s\n",
      "Wall time: 11.6 s\n"
     ]
    },
    {
     "data": {
      "text/plain": [
       "0.7350054704479217"
      ]
     },
     "execution_count": 13,
     "metadata": {},
     "output_type": "execute_result"
    }
   ],
   "source": [
    "%%time\n",
    "\n",
    "get_auc_lr_valid(X_sites_train_cv_transform, X_sites_test_cv_transform, y_train, y_test, scaled=True)"
   ]
  },
  {
   "cell_type": "code",
   "execution_count": 14,
   "metadata": {},
   "outputs": [
    {
     "name": "stdout",
     "output_type": "stream",
     "text": [
      "CPU times: user 9.84 s, sys: 228 ms, total: 10.1 s\n",
      "Wall time: 2.77 s\n"
     ]
    },
    {
     "data": {
      "text/plain": [
       "0.9452130533344256"
      ]
     },
     "execution_count": 14,
     "metadata": {},
     "output_type": "execute_result"
    }
   ],
   "source": [
    "%%time\n",
    "\n",
    "get_auc_lr_valid(X_sites_train_cv_transform, X_sites_test_cv_transform, y_train, y_test, max_abs=True)"
   ]
  },
  {
   "cell_type": "code",
   "execution_count": 15,
   "metadata": {},
   "outputs": [
    {
     "name": "stdout",
     "output_type": "stream",
     "text": [
      "CPU times: user 38 s, sys: 606 ms, total: 38.6 s\n",
      "Wall time: 10.1 s\n"
     ]
    },
    {
     "data": {
      "text/plain": [
       "'Done!'"
      ]
     },
     "execution_count": 15,
     "metadata": {},
     "output_type": "execute_result"
    }
   ],
   "source": [
    "%%time\n",
    "\n",
    "get_auc_lr_valid(X_sites_cv, test_cv, y, for_test=True, out_file='predictions.csv')"
   ]
  },
  {
   "cell_type": "markdown",
   "metadata": {},
   "source": [
    "### TfidfVectorizer"
   ]
  },
  {
   "cell_type": "code",
   "execution_count": 16,
   "metadata": {},
   "outputs": [],
   "source": [
    "n_ngram = 3\n",
    "\n",
    "tfidf = TfidfVectorizer(ngram_range=(1, n_ngram), max_features=50000)\n",
    "X_sites_train_tfidf_transform = tfidf.fit_transform(X_sites_train)\n",
    "X_sites_test_tfidf_transform = tfidf.transform(X_sites_test)\n",
    "\n",
    "X_sites_tfidf = tfidf.fit_transform(X_sites)\n",
    "test_tfidf = tfidf.transform(test)"
   ]
  },
  {
   "cell_type": "code",
   "execution_count": 17,
   "metadata": {},
   "outputs": [
    {
     "name": "stdout",
     "output_type": "stream",
     "text": [
      "CPU times: user 4.8 s, sys: 563 ms, total: 5.36 s\n",
      "Wall time: 5.92 s\n"
     ]
    },
    {
     "data": {
      "text/plain": [
       "0.9523348849150401"
      ]
     },
     "execution_count": 17,
     "metadata": {},
     "output_type": "execute_result"
    }
   ],
   "source": [
    "%%time\n",
    "\n",
    "get_auc_lr_valid(X_sites_train_tfidf_transform, X_sites_test_tfidf_transform, y_train, y_test)"
   ]
  },
  {
   "cell_type": "code",
   "execution_count": 18,
   "metadata": {},
   "outputs": [
    {
     "name": "stdout",
     "output_type": "stream",
     "text": [
      "CPU times: user 12.5 s, sys: 250 ms, total: 12.8 s\n",
      "Wall time: 3.44 s\n"
     ]
    },
    {
     "data": {
      "text/plain": [
       "'Done!'"
      ]
     },
     "execution_count": 18,
     "metadata": {},
     "output_type": "execute_result"
    }
   ],
   "source": [
    "%%time\n",
    "\n",
    "get_auc_lr_valid(X_sites_tfidf, test_tfidf, y, for_test=True, out_file='predictions.csv')"
   ]
  },
  {
   "cell_type": "code",
   "execution_count": 19,
   "metadata": {},
   "outputs": [],
   "source": [
    "n_ngram = 5\n",
    "\n",
    "tfidf = TfidfVectorizer(ngram_range=(1, n_ngram), max_features=50000)\n",
    "X_sites_train_tfidf_transform = tfidf.fit_transform(X_sites_train)\n",
    "X_sites_test_tfidf_transform = tfidf.transform(X_sites_test)\n",
    "\n",
    "X_sites_tfidf = tfidf.fit_transform(X_sites)\n",
    "test_tfidf = tfidf.transform(test)"
   ]
  },
  {
   "cell_type": "code",
   "execution_count": 20,
   "metadata": {},
   "outputs": [
    {
     "name": "stdout",
     "output_type": "stream",
     "text": [
      "CPU times: user 8.18 s, sys: 336 ms, total: 8.52 s\n",
      "Wall time: 2.6 s\n"
     ]
    },
    {
     "data": {
      "text/plain": [
       "0.9502265233329312"
      ]
     },
     "execution_count": 20,
     "metadata": {},
     "output_type": "execute_result"
    }
   ],
   "source": [
    "%%time\n",
    "\n",
    "get_auc_lr_valid(X_sites_train_tfidf_transform, X_sites_test_tfidf_transform, y_train, y_test)"
   ]
  },
  {
   "cell_type": "markdown",
   "metadata": {},
   "source": [
    "## Sites + domens"
   ]
  },
  {
   "cell_type": "code",
   "execution_count": 21,
   "metadata": {},
   "outputs": [],
   "source": [
    "domens = [f\"site{str(i)}_domen\" for i in range(1,11)]\n",
    "X_domens = X[domens]\n",
    "\n",
    "# создадим одну строку с посещенными доменами\n",
    "X_domens = X_domens.apply(lambda x: ' '.join([str(x.site1_domen), str(x.site2_domen),\n",
    "                                              str(x.site3_domen), str(x.site4_domen),\n",
    "                                              str(x.site5_domen), str(x.site6_domen),\n",
    "                                              str(x.site7_domen), str(x.site8_domen),\n",
    "                                              str(x.site9_domen), str(x.site10_domen)]), axis=1)\n",
    "\n",
    "test_sites = test_df[sites].apply(lambda x: ' '.join([str(x.site1), str(x.site2), str(x.site3), str(x.site4),\n",
    "                                                        str(x.site5), str(x.site6), str(x.site7), str(x.site8),\n",
    "                                                        str(x.site9), str(x.site10)]), axis=1)\n",
    "\n",
    "test_domens = test_df[domens].apply(lambda x: ' '.join([str(x.site1_domen), str(x.site2_domen),\n",
    "                                              str(x.site3_domen), str(x.site4_domen),\n",
    "                                              str(x.site5_domen), str(x.site6_domen),\n",
    "                                              str(x.site7_domen), str(x.site8_domen),\n",
    "                                              str(x.site9_domen), str(x.site10_domen)]), axis=1)"
   ]
  },
  {
   "cell_type": "code",
   "execution_count": 22,
   "metadata": {},
   "outputs": [],
   "source": [
    "n_ngram = 3\n",
    "\n",
    "# domens\n",
    "tfidf_domen = TfidfVectorizer(ngram_range=(1, n_ngram))\n",
    "X_domens_train_tfidf_transform = tfidf_domen.fit_transform(X_sites_train)\n",
    "X_domens_test_tfidf_transform = tfidf_domen.transform(X_sites_test)\n",
    "\n",
    "X_domens_tfidf = tfidf_domen.fit_transform(X_domens)\n",
    "test_domens_tfidf = tfidf_domen.transform(test_domens)\n",
    "\n",
    "# sites\n",
    "tfidf = TfidfVectorizer(ngram_range=(1, n_ngram), max_features=50000)\n",
    "X_sites_tfidf = tfidf.fit_transform(X_sites)\n",
    "test_sites_tfidf = tfidf.transform(test_sites)"
   ]
  },
  {
   "cell_type": "code",
   "execution_count": 23,
   "metadata": {},
   "outputs": [
    {
     "name": "stdout",
     "output_type": "stream",
     "text": [
      "CPU times: user 50.3 s, sys: 1.49 s, total: 51.8 s\n",
      "Wall time: 15.3 s\n"
     ]
    },
    {
     "data": {
      "text/plain": [
       "0.9568006760475769"
      ]
     },
     "execution_count": 23,
     "metadata": {},
     "output_type": "execute_result"
    }
   ],
   "source": [
    "%%time\n",
    "\n",
    "get_auc_lr_valid(hstack((X_sites_train_tfidf_transform, X_domens_train_tfidf_transform)),\n",
    "                 hstack((X_sites_test_tfidf_transform, X_domens_test_tfidf_transform)),\n",
    "                 y_train, y_test)"
   ]
  },
  {
   "cell_type": "code",
   "execution_count": 24,
   "metadata": {},
   "outputs": [
    {
     "name": "stdout",
     "output_type": "stream",
     "text": [
      "CPU times: user 20.1 s, sys: 425 ms, total: 20.6 s\n",
      "Wall time: 5.64 s\n"
     ]
    },
    {
     "data": {
      "text/plain": [
       "'Done!'"
      ]
     },
     "execution_count": 24,
     "metadata": {},
     "output_type": "execute_result"
    }
   ],
   "source": [
    "%%time\n",
    "\n",
    "get_auc_lr_valid(hstack((X_sites_tfidf, X_domens_tfidf)),\n",
    "                 hstack((test_sites_tfidf, test_domens_tfidf)),\n",
    "                 y, for_test=True, out_file='predictions.csv')"
   ]
  },
  {
   "cell_type": "markdown",
   "metadata": {},
   "source": [
    "Оставляем две фичи: сайты и домены.\n",
    "\n",
    "## Добавим время\n",
    "\n",
    "* Используем кроссвалидацию по времени"
   ]
  },
  {
   "cell_type": "code",
   "execution_count": 25,
   "metadata": {},
   "outputs": [],
   "source": [
    "n_ngram = 3\n",
    "\n",
    "# domens\n",
    "tfidf_domen = TfidfVectorizer(ngram_range=(1, n_ngram))\n",
    "X_domens_tfidf = tfidf_domen.fit_transform(X_domens)\n",
    "test_domens_tfidf = tfidf_domen.transform(test_domens)\n",
    "\n",
    "# sites\n",
    "tfidf = TfidfVectorizer(ngram_range=(1, n_ngram), max_features=50000)\n",
    "X_sites_tfidf = tfidf.fit_transform(X_sites)\n",
    "test_sites_tfidf = tfidf.transform(test_sites)"
   ]
  },
  {
   "cell_type": "code",
   "execution_count": 26,
   "metadata": {},
   "outputs": [
    {
     "name": "stdout",
     "output_type": "stream",
     "text": [
      "K Fold: 1\n",
      "roc_auc_score = 0.8920917939979941\n",
      "K Fold: 2\n",
      "roc_auc_score = 0.8085270280511438\n",
      "K Fold: 3\n",
      "roc_auc_score = 0.8773565145030908\n",
      "K Fold: 4\n",
      "roc_auc_score = 0.8731600145887883\n",
      "K Fold: 5\n",
      "roc_auc_score = 0.9259985425446078\n",
      "Mean roc_auc_score = 0.8754267787371252\n"
     ]
    }
   ],
   "source": [
    "tscv = TimeSeriesSplit(n_splits=5)\n",
    "\n",
    "X_for_tscv = hstack((X_sites_tfidf, X_domens_tfidf))\n",
    "i = 1\n",
    "\n",
    "scores = []\n",
    "\n",
    "for train_index, test_index in tscv.split(X_for_tscv):\n",
    "#     print(\"TRAIN:\", train_index, \"TEST:\", test_index)\n",
    "    \n",
    "    X_train, X_test = X_for_tscv.tocsr()[train_index,:], X_for_tscv.tocsr()[test_index,:]\n",
    "    y_train, y_test = y.iloc[train_index], y.iloc[test_index]\n",
    "    \n",
    "    \n",
    "    \n",
    "    roc_auc_score = get_auc_lr_valid(X_train, X_test, y_train, y_test)\n",
    "    print(f\"K Fold: {i}\")\n",
    "    print(f\"roc_auc_score = {roc_auc_score}\")\n",
    "    scores.append(roc_auc_score)\n",
    "    i += 1\n",
    "print(f\"Mean roc_auc_score = {np.mean(scores)}\")"
   ]
  },
  {
   "cell_type": "markdown",
   "metadata": {},
   "source": [
    "### Добавим день недели "
   ]
  },
  {
   "cell_type": "code",
   "execution_count": 31,
   "metadata": {},
   "outputs": [
    {
     "data": {
      "image/png": "[encoded data removed]",
      "text/plain": [
       "<Figure size 1080x432 with 2 Axes>"
      ]
     },
     "metadata": {},
     "output_type": "display_data"
    }
   ],
   "source": [
    "fig, ax = plt.subplots(1, 2, figsize=(15,6))\n",
    "\n",
    "ax[0].hist(train_df[train_df['target'] == 1].apply(lambda x: pd.to_datetime(x.time1).dayofweek, axis=1), \n",
    "           bins=5, rwidth=0.9)\n",
    "ax[1].hist(train_df[train_df['target'] == 0].apply(lambda x: pd.to_datetime(x.time1).dayofweek, axis=1), \n",
    "           bins=7, rwidth=0.9)\n",
    "\n",
    "ax[0].set_xticks(ticks=[i - 0.7 for i in np.linspace(1,6,7)])\n",
    "ax[1].set_xticks(ticks=[i - 0.5 for i in np.linspace(1,6,7)])\n",
    "ax[0].set_xticklabels(labels=['Mon','Tue','Wed','Thu','Fri','Sat','Sun'])\n",
    "ax[1].set_xticklabels(labels=['Mon','Tue','Wed','Thu','Fri','Sat','Sun'])\n",
    "ax[0].set_title('Посещение вебсайтов Alice по дням недели')\n",
    "ax[1].set_title('Посещение вебсайтов пользователями по дням недели')\n",
    "\n",
    "plt.show()"
   ]
  },
  {
   "cell_type": "code",
   "execution_count": 32,
   "metadata": {},
   "outputs": [
    {
     "name": "stdout",
     "output_type": "stream",
     "text": [
      "K Fold: 1\n",
      "roc_auc_score = 0.8221590425743285\n",
      "K Fold: 2\n",
      "roc_auc_score = 0.8286426970671343\n",
      "K Fold: 3\n",
      "roc_auc_score = 0.920846885401807\n",
      "K Fold: 4\n",
      "roc_auc_score = 0.9349916441444193\n",
      "K Fold: 5\n",
      "roc_auc_score = 0.9630075158591075\n",
      "Mean roc_auc_score = 0.8939295570093593\n"
     ]
    }
   ],
   "source": [
    "tscv = TimeSeriesSplit(n_splits=5)\n",
    "\n",
    "X_for_tscv = hstack((X_sites_tfidf, X_domens_tfidf))\n",
    "i = 1\n",
    "\n",
    "scores = []\n",
    "\n",
    "for train_index, test_index in tscv.split(X_for_tscv):\n",
    "#     print(\"TRAIN:\", train_index, \"TEST:\", test_index)\n",
    "    \n",
    "    X_train = hstack((X_for_tscv.tocsr()[train_index,:], \n",
    "                     coo_matrix(train_df.iloc[train_index].time1.apply(lambda x: pd.to_datetime(x).dayofweek)).T))\n",
    "    X_test = hstack((X_for_tscv.tocsr()[test_index,:], \n",
    "                     coo_matrix(train_df.iloc[test_index].time1.apply(lambda x: pd.to_datetime(x).dayofweek)).T))\n",
    "    y_train, y_test = y.iloc[train_index], y.iloc[test_index]\n",
    "    \n",
    "    \n",
    "    \n",
    "    roc_auc_score = get_auc_lr_valid(X_train, X_test, y_train, y_test)\n",
    "    print(f\"K Fold: {i}\")\n",
    "    print(f\"roc_auc_score = {roc_auc_score}\")\n",
    "    scores.append(roc_auc_score)\n",
    "    i += 1\n",
    "print(f\"Mean roc_auc_score = {np.mean(scores)}\")"
   ]
  },
  {
   "cell_type": "code",
   "execution_count": 33,
   "metadata": {},
   "outputs": [
    {
     "name": "stdout",
     "output_type": "stream",
     "text": [
      "CPU times: user 46.3 s, sys: 1.08 s, total: 47.4 s\n",
      "Wall time: 25.8 s\n"
     ]
    },
    {
     "data": {
      "text/plain": [
       "'Done!'"
      ]
     },
     "execution_count": 33,
     "metadata": {},
     "output_type": "execute_result"
    }
   ],
   "source": [
    "%%time\n",
    "\n",
    "n_ngram = 3\n",
    "\n",
    "# domens\n",
    "tfidf_domen = TfidfVectorizer(ngram_range=(1, n_ngram))\n",
    "X_domens_tfidf = tfidf_domen.fit_transform(X_domens)\n",
    "test_domens_tfidf = tfidf_domen.transform(test_domens)\n",
    "\n",
    "# sites\n",
    "tfidf = TfidfVectorizer(ngram_range=(1, n_ngram), max_features=50000)\n",
    "X_sites_tfidf = tfidf.fit_transform(X_sites)\n",
    "test_sites_tfidf = tfidf.transform(test_sites)\n",
    "\n",
    "X_train_tmp = hstack((X_sites_tfidf, X_domens_tfidf))\n",
    "X_train_tmp = hstack((X_train_tmp, coo_matrix(train_df.time1.apply(lambda x: pd.to_datetime(x).dayofweek)).T))\n",
    "\n",
    "X_test_tmp = hstack((test_sites_tfidf, test_domens_tfidf))\n",
    "X_test_tmp = hstack((X_test_tmp, coo_matrix(test_df.time1.apply(lambda x: pd.to_datetime(x).dayofweek)).T))\n",
    "\n",
    "get_auc_lr_valid(X_train_tmp,\n",
    "                 X_test_tmp,\n",
    "                 y, for_test=True, out_file='predictions.csv')"
   ]
  },
  {
   "cell_type": "markdown",
   "metadata": {},
   "source": [
    "### Добавим время года"
   ]
  },
  {
   "cell_type": "code",
   "execution_count": 34,
   "metadata": {},
   "outputs": [
    {
     "data": {
      "image/png": "[encoded data removed]",
      "text/plain": [
       "<Figure size 1080x432 with 2 Axes>"
      ]
     },
     "metadata": {},
     "output_type": "display_data"
    }
   ],
   "source": [
    "fig, ax = plt.subplots(1, 2, figsize=(15,6))\n",
    "\n",
    "ax[0].hist(train_df[train_df['target'] == 1].apply(lambda x: pd.to_datetime(x.time1).month%12 // 3 + 1, axis=1), \n",
    "           bins=4, rwidth=0.9)\n",
    "ax[1].hist(train_df[train_df['target'] == 0].apply(lambda x: pd.to_datetime(x.time1).month%12 // 3 + 1, axis=1), \n",
    "           bins=4, rwidth=0.9)\n",
    "\n",
    "ax[0].set_xticks(ticks=[i for i in [1.35, 2.1, 2.85, 3.6]])\n",
    "ax[1].set_xticks(ticks=[i for i in [1.35, 2.1, 2.85, 3.6]])\n",
    "ax[0].set_xticklabels(labels=['winter', 'spring', 'summer', 'autumn'])\n",
    "ax[1].set_xticklabels(labels=['winter', 'spring', 'summer', 'autumn'])\n",
    "ax[0].set_title('Посещение вебсайтов Alice по временам года')\n",
    "ax[1].set_title('Посещение вебсайтов пользователями по временам года')\n",
    "\n",
    "plt.show()"
   ]
  },
  {
   "cell_type": "code",
   "execution_count": 35,
   "metadata": {},
   "outputs": [
    {
     "name": "stdout",
     "output_type": "stream",
     "text": [
      "K Fold: 1\n",
      "roc_auc_score = 0.841447702612063\n",
      "K Fold: 2\n",
      "roc_auc_score = 0.8311181266036571\n",
      "K Fold: 3\n",
      "roc_auc_score = 0.9196105563480741\n",
      "K Fold: 4\n",
      "roc_auc_score = 0.937378519194218\n",
      "K Fold: 5\n",
      "roc_auc_score = 0.9635477512010332\n",
      "Mean roc_auc_score = 0.8986205311918092\n"
     ]
    }
   ],
   "source": [
    "tscv = TimeSeriesSplit(n_splits=5)\n",
    "\n",
    "X_for_tscv = hstack((X_sites_tfidf, X_domens_tfidf))\n",
    "i = 1\n",
    "\n",
    "scores = []\n",
    "\n",
    "for train_index, test_index in tscv.split(X_for_tscv):\n",
    "#     print(\"TRAIN:\", train_index, \"TEST:\", test_index)\n",
    "    \n",
    "    X_train = hstack((X_for_tscv.tocsr()[train_index,:], \n",
    "                     coo_matrix(train_df.iloc[train_index].time1.apply(lambda x: pd.to_datetime(x).dayofweek)).T))\n",
    "    X_train = hstack((X_train, \n",
    "                coo_matrix(train_df.iloc[train_index].time1.apply(lambda x: pd.to_datetime(x).month%12 // 3 + 1)).T))\n",
    "    \n",
    "    X_test = hstack((X_for_tscv.tocsr()[test_index,:], \n",
    "                     coo_matrix(train_df.iloc[test_index].time1.apply(lambda x: pd.to_datetime(x).dayofweek)).T))\n",
    "    X_test = hstack((X_test, \n",
    "                coo_matrix(train_df.iloc[test_index].time1.apply(lambda x: pd.to_datetime(x).month%12 // 3 + 1)).T))\n",
    "    \n",
    "    y_train, y_test = y.iloc[train_index], y.iloc[test_index]\n",
    "    \n",
    "    \n",
    "    \n",
    "    roc_auc_score = get_auc_lr_valid(X_train, X_test, y_train, y_test)\n",
    "    print(f\"K Fold: {i}\")\n",
    "    print(f\"roc_auc_score = {roc_auc_score}\")\n",
    "    scores.append(roc_auc_score)\n",
    "    i += 1\n",
    "print(f\"Mean roc_auc_score = {np.mean(scores)}\")"
   ]
  },
  {
   "cell_type": "markdown",
   "metadata": {},
   "source": [
    "### Добавим часы"
   ]
  },
  {
   "cell_type": "code",
   "execution_count": 36,
   "metadata": {},
   "outputs": [
    {
     "data": {
      "image/png": "[encoded data removed]",
      "text/plain": [
       "<Figure size 1080x432 with 2 Axes>"
      ]
     },
     "metadata": {},
     "output_type": "display_data"
    }
   ],
   "source": [
    "fig, ax = plt.subplots(1, 2, figsize=(15,6))\n",
    "\n",
    "ax[0].hist(train_df[train_df['target'] == 1].apply(lambda x: pd.to_datetime(x.time1).hour, axis=1), \n",
    "           bins=10, rwidth=0.9)\n",
    "ax[1].hist(train_df[train_df['target'] == 0].apply(lambda x: pd.to_datetime(x.time1).hour, axis=1), \n",
    "           bins=17, rwidth=0.9)\n",
    "\n",
    "ax[0].set_xticks(ticks=[i + 0.4 for i in np.linspace(7,22,17)])\n",
    "ax[1].set_xticks(ticks=[i + 0.5 for i in np.linspace(7,22,17)])\n",
    "ax[0].set_xticklabels(labels=['7','8' ,'9','10','11','12','13','14','15','16','17',\n",
    "                   '18','19','20','21','22','23'])\n",
    "ax[1].set_xticklabels(labels=['7','8' ,'9','10','11','12','13','14','15','16','17',\n",
    "                   '18','19','20','21','22','23'])\n",
    "ax[0].set_title('Посещение вебсайтов Alice по часам')\n",
    "ax[1].set_title('Посещение вебсайтов пользователями по часам')\n",
    "\n",
    "plt.show()"
   ]
  },
  {
   "cell_type": "code",
   "execution_count": 37,
   "metadata": {},
   "outputs": [
    {
     "name": "stdout",
     "output_type": "stream",
     "text": [
      "K Fold: 1\n",
      "roc_auc_score = 0.8921283617295754\n",
      "K Fold: 2\n",
      "roc_auc_score = 0.855908365541806\n",
      "K Fold: 3\n",
      "roc_auc_score = 0.9491859248692345\n",
      "K Fold: 4\n",
      "roc_auc_score = 0.9495354579456781\n",
      "K Fold: 5\n",
      "roc_auc_score = 0.9787493626074776\n",
      "Mean roc_auc_score = 0.9251014945387543\n"
     ]
    }
   ],
   "source": [
    "tscv = TimeSeriesSplit(n_splits=5)\n",
    "\n",
    "X_for_tscv = hstack((X_sites_tfidf, X_domens_tfidf))\n",
    "i = 1\n",
    "\n",
    "scores = []\n",
    "\n",
    "for train_index, test_index in tscv.split(X_for_tscv):\n",
    "#     print(\"TRAIN:\", train_index, \"TEST:\", test_index)\n",
    "    \n",
    "    X_train = hstack((X_for_tscv.tocsr()[train_index,:], \n",
    "                     coo_matrix(train_df.iloc[train_index].time1.apply(lambda x: pd.to_datetime(x).dayofweek)).T))\n",
    "    X_train = hstack((X_train, \n",
    "                coo_matrix(train_df.iloc[train_index].time1.apply(lambda x: pd.to_datetime(x).month%12 // 3 + 1)).T))\n",
    "    X_train = hstack((X_train, \n",
    "                coo_matrix(train_df.iloc[train_index].time1.apply(lambda x: pd.to_datetime(x).hour)).T))\n",
    "    \n",
    "    X_test = hstack((X_for_tscv.tocsr()[test_index,:], \n",
    "                     coo_matrix(train_df.iloc[test_index].time1.apply(lambda x: pd.to_datetime(x).dayofweek)).T))\n",
    "    X_test = hstack((X_test, \n",
    "                coo_matrix(train_df.iloc[test_index].time1.apply(lambda x: pd.to_datetime(x).month%12 // 3 + 1)).T))\n",
    "    X_test = hstack((X_test, \n",
    "                coo_matrix(train_df.iloc[test_index].time1.apply(lambda x: pd.to_datetime(x).hour)).T))\n",
    "    \n",
    "    y_train, y_test = y.iloc[train_index], y.iloc[test_index]\n",
    "    \n",
    "    \n",
    "    \n",
    "    roc_auc_score = get_auc_lr_valid(X_train, X_test, y_train, y_test, max_abs=True)\n",
    "    print(f\"K Fold: {i}\")\n",
    "    print(f\"roc_auc_score = {roc_auc_score}\")\n",
    "    scores.append(roc_auc_score)\n",
    "    i += 1\n",
    "print(f\"Mean roc_auc_score = {np.mean(scores)}\")"
   ]
  },
  {
   "cell_type": "code",
   "execution_count": 38,
   "metadata": {},
   "outputs": [
    {
     "name": "stdout",
     "output_type": "stream",
     "text": [
      "CPU times: user 55.6 s, sys: 1.7 s, total: 57.3 s\n",
      "Wall time: 34.4 s\n"
     ]
    },
    {
     "data": {
      "text/plain": [
       "'Done!'"
      ]
     },
     "execution_count": 38,
     "metadata": {},
     "output_type": "execute_result"
    }
   ],
   "source": [
    "%%time\n",
    "\n",
    "n_ngram = 3\n",
    "\n",
    "# domens\n",
    "tfidf_domen = TfidfVectorizer(ngram_range=(1, n_ngram))\n",
    "X_domens_tfidf = tfidf_domen.fit_transform(X_domens)\n",
    "test_domens_tfidf = tfidf_domen.transform(test_domens)\n",
    "\n",
    "# sites\n",
    "tfidf = TfidfVectorizer(ngram_range=(1, n_ngram), max_features=50000)\n",
    "X_sites_tfidf = tfidf.fit_transform(X_sites)\n",
    "test_sites_tfidf = tfidf.transform(test_sites)\n",
    "\n",
    "X_train_tmp = hstack((X_sites_tfidf, X_domens_tfidf))\n",
    "X_train_tmp = hstack((X_train_tmp, coo_matrix(train_df.time1.apply(lambda x: pd.to_datetime(x).dayofweek)).T))\n",
    "X_train_tmp = hstack((X_train_tmp, coo_matrix(train_df.time1.apply(lambda x: pd.to_datetime(x).month%12 // 3 + 1)).T))\n",
    "X_train_tmp = hstack((X_train_tmp, coo_matrix(train_df.time1.apply(lambda x: pd.to_datetime(x).hour)).T))\n",
    "\n",
    "X_test_tmp = hstack((test_sites_tfidf, test_domens_tfidf))\n",
    "X_test_tmp = hstack((X_test_tmp, coo_matrix(test_df.time1.apply(lambda x: pd.to_datetime(x).dayofweek)).T))\n",
    "X_test_tmp = hstack((X_test_tmp, coo_matrix(test_df.time1.apply(lambda x: pd.to_datetime(x).month%12 // 3 + 1)).T))\n",
    "X_test_tmp = hstack((X_test_tmp, coo_matrix(test_df.time1.apply(lambda x: pd.to_datetime(x).hour)).T))\n",
    "\n",
    "get_auc_lr_valid(X_train_tmp,\n",
    "                 X_test_tmp,\n",
    "                 y, \n",
    "                 max_abs=True, for_test=True, out_file='predictions.csv')"
   ]
  },
  {
   "cell_type": "markdown",
   "metadata": {},
   "source": [
    "### Grid Search with time series"
   ]
  },
  {
   "cell_type": "code",
   "execution_count": 39,
   "metadata": {},
   "outputs": [],
   "source": [
    "tscv = TimeSeriesSplit(n_splits=5)\n",
    "\n",
    "c_values = np.logspace(-2, 2, 10)\n",
    "solvers = ['lbfgs', 'liblinear']\n",
    "# penalty = ['l1', 'l2', 'elasticnet']\n",
    "\n",
    "lr = LogisticRegression(penalty='l2', random_state=42, max_iter=500)\n",
    "logit_grid_searcher = GridSearchCV(estimator=lr, param_grid={'C': c_values, 'solver': solvers},\n",
    "                                  scoring='roc_auc', n_jobs=1, cv=tscv, verbose=1)"
   ]
  },
  {
   "cell_type": "code",
   "execution_count": 40,
   "metadata": {},
   "outputs": [
    {
     "name": "stdout",
     "output_type": "stream",
     "text": [
      "Fitting 5 folds for each of 20 candidates, totalling 100 fits\n",
      "0.9013268142725795\n",
      "{'C': 4.6415888336127775, 'solver': 'liblinear'}\n",
      "CPU times: user 27min 2s, sys: 24.5 s, total: 27min 26s\n",
      "Wall time: 7min 14s\n"
     ]
    }
   ],
   "source": [
    "%%time\n",
    "\n",
    "n_ngram = 3\n",
    "\n",
    "# domens\n",
    "tfidf_domen = TfidfVectorizer(ngram_range=(1, n_ngram))\n",
    "X_domens_tfidf = tfidf_domen.fit_transform(X_domens)\n",
    "\n",
    "# sites\n",
    "tfidf = TfidfVectorizer(ngram_range=(1, n_ngram), max_features=50000)\n",
    "X_sites_tfidf = tfidf.fit_transform(X_sites)\n",
    "\n",
    "X_train_tmp = hstack((X_sites_tfidf, X_domens_tfidf))\n",
    "X_train_tmp = hstack((X_train_tmp, coo_matrix(train_df.time1.apply(lambda x: pd.to_datetime(x).dayofweek)).T))\n",
    "\n",
    "# grid search\n",
    "logit_grid_searcher.fit(X_train_tmp, y)\n",
    "print(logit_grid_searcher.best_score_)\n",
    "print(logit_grid_searcher.best_params_)"
   ]
  },
  {
   "cell_type": "code",
   "execution_count": 49,
   "metadata": {},
   "outputs": [],
   "source": [
    "def get_auc_lr_valid_with_params(X_train, X_test, y_train, y_test=None, C=1.0, solver='lbfgs', \n",
    "                                 max_iter=500, seed=42, \n",
    "                                 scaled=False, max_abs = False, \n",
    "                                 for_test=False, out_file='predictions.csv'):\n",
    "    \n",
    "    if scaled:\n",
    "        st = StandardScaler(with_mean=False)\n",
    "        X_train = st.fit_transform(X_train)\n",
    "        X_test = st.transform(X_test)\n",
    "        \n",
    "    if max_abs:\n",
    "        min_max = MaxAbsScaler()\n",
    "        X_train = min_max.fit_transform(X_train)\n",
    "        X_test = min_max.transform(X_test)\n",
    "    \n",
    "    lr = LogisticRegression(C=C, random_state=seed, solver=solver, max_iter=max_iter)\n",
    "    lr.fit(X_train, y_train)\n",
    "    \n",
    "    if for_test:\n",
    "        preds = lr.predict_proba(X_test)[:, 1]\n",
    "        predicted_df = pd.DataFrame(preds,\n",
    "                                index = range(1, preds.shape[0] + 1),\n",
    "                                columns=[\"target\"])\n",
    "        predicted_df.to_csv(out_file, index_label=\"session_id\")\n",
    "        return 'Done!'\n",
    "    else:\n",
    "        preds = lr.predict_proba(X_test)[:, 1]\n",
    "        score = metrics.roc_auc_score(y_test, preds)\n",
    "        return score"
   ]
  },
  {
   "cell_type": "code",
   "execution_count": 50,
   "metadata": {},
   "outputs": [
    {
     "data": {
      "text/plain": [
       "{'C': 4.6415888336127775, 'solver': 'liblinear'}"
      ]
     },
     "execution_count": 50,
     "metadata": {},
     "output_type": "execute_result"
    }
   ],
   "source": [
    "logit_grid_searcher.best_params_"
   ]
  },
  {
   "cell_type": "code",
   "execution_count": 51,
   "metadata": {},
   "outputs": [
    {
     "name": "stdout",
     "output_type": "stream",
     "text": [
      "K Fold: 1\n",
      "roc_auc_score = 0.8628017247041111\n",
      "K Fold: 2\n",
      "roc_auc_score = 0.8411675165372914\n",
      "K Fold: 3\n",
      "roc_auc_score = 0.9167126723728007\n",
      "K Fold: 4\n",
      "roc_auc_score = 0.9259462185202858\n",
      "K Fold: 5\n",
      "roc_auc_score = 0.9600059392284083\n",
      "Mean roc_auc_score = 0.9013268142725795\n"
     ]
    }
   ],
   "source": [
    "tscv = TimeSeriesSplit(n_splits=5)\n",
    "\n",
    "X_for_tscv = hstack((X_sites_tfidf, X_domens_tfidf))\n",
    "i = 1\n",
    "\n",
    "scores = []\n",
    "\n",
    "for train_index, test_index in tscv.split(X_for_tscv):\n",
    "#     print(\"TRAIN:\", train_index, \"TEST:\", test_index)\n",
    "    \n",
    "    X_train = hstack((X_for_tscv.tocsr()[train_index,:], \n",
    "                     coo_matrix(train_df.iloc[train_index].time1.apply(lambda x: pd.to_datetime(x).dayofweek)).T))\n",
    "    \n",
    "    X_test = hstack((X_for_tscv.tocsr()[test_index,:], \n",
    "                     coo_matrix(train_df.iloc[test_index].time1.apply(lambda x: pd.to_datetime(x).dayofweek)).T))\n",
    "    \n",
    "    y_train, y_test = y.iloc[train_index], y.iloc[test_index]\n",
    "    \n",
    "    \n",
    "    \n",
    "    roc_auc_score = get_auc_lr_valid_with_params(X_train, X_test, y_train, y_test,\n",
    "                                                 C=logit_grid_searcher.best_params_['C'], \n",
    "                                                 solver=logit_grid_searcher.best_params_['solver'])\n",
    "    print(f\"K Fold: {i}\")\n",
    "    print(f\"roc_auc_score = {roc_auc_score}\")\n",
    "    scores.append(roc_auc_score)\n",
    "    i += 1\n",
    "print(f\"Mean roc_auc_score = {np.mean(scores)}\")"
   ]
  },
  {
   "cell_type": "markdown",
   "metadata": {},
   "source": [
    "Было:\n",
    "\n",
    "K Fold: 1\n",
    "roc_auc_score = 0.8221590425743285\n",
    "\n",
    "K Fold: 2\n",
    "roc_auc_score = 0.8286426970671343\n",
    "\n",
    "K Fold: 3\n",
    "roc_auc_score = 0.920846885401807\n",
    "\n",
    "K Fold: 4\n",
    "roc_auc_score = 0.9349916441444193\n",
    "\n",
    "K Fold: 5\n",
    "roc_auc_score = 0.9630075158591075\n",
    "\n",
    "Mean roc_auc_score = 0.8939295570093593"
   ]
  },
  {
   "cell_type": "code",
   "execution_count": 52,
   "metadata": {},
   "outputs": [
    {
     "name": "stdout",
     "output_type": "stream",
     "text": [
      "CPU times: user 35.6 s, sys: 903 ms, total: 36.5 s\n",
      "Wall time: 23.4 s\n"
     ]
    },
    {
     "data": {
      "text/plain": [
       "'Done!'"
      ]
     },
     "execution_count": 52,
     "metadata": {},
     "output_type": "execute_result"
    }
   ],
   "source": [
    "%%time\n",
    "\n",
    "n_ngram = 3\n",
    "\n",
    "# domens\n",
    "tfidf_domen = TfidfVectorizer(ngram_range=(1, n_ngram))\n",
    "X_domens_tfidf = tfidf_domen.fit_transform(X_domens)\n",
    "test_domens_tfidf = tfidf_domen.transform(test_domens)\n",
    "\n",
    "# sites\n",
    "tfidf = TfidfVectorizer(ngram_range=(1, n_ngram), max_features=50000)\n",
    "X_sites_tfidf = tfidf.fit_transform(X_sites)\n",
    "test_sites_tfidf = tfidf.transform(test_sites)\n",
    "\n",
    "X_train_tmp = hstack((X_sites_tfidf, X_domens_tfidf))\n",
    "X_train_tmp = hstack((X_train_tmp, coo_matrix(train_df.time1.apply(lambda x: pd.to_datetime(x).dayofweek)).T))\n",
    "\n",
    "X_test_tmp = hstack((test_sites_tfidf, test_domens_tfidf))\n",
    "X_test_tmp = hstack((X_test_tmp, coo_matrix(test_df.time1.apply(lambda x: pd.to_datetime(x).dayofweek)).T))\n",
    "\n",
    "get_auc_lr_valid_with_params(X_train_tmp,\n",
    "                 X_test_tmp,\n",
    "                 y, \n",
    "                 C=logit_grid_searcher.best_params_['C'], solver=logit_grid_searcher.best_params_['solver'],\n",
    "                 for_test=True, out_file='predictions.csv')"
   ]
  },
  {
   "cell_type": "markdown",
   "metadata": {},
   "source": [
    "### Добавим часы (утро, день, вечер, ночь)"
   ]
  },
  {
   "cell_type": "code",
   "execution_count": 53,
   "metadata": {},
   "outputs": [],
   "source": [
    "def define_part_of_day(df):\n",
    "    hour = df.time1.apply(lambda x: pd.to_datetime(x).hour)\n",
    "    morning = ((hour >= 7) & (hour <= 11)).astype('int')\n",
    "    day = ((hour >= 12) & (hour <= 18)).astype('int')\n",
    "    evening = ((hour >= 19) & (hour <= 23)).astype('int')\n",
    "    night = ((hour >= 0) & (hour <= 6)).astype('int')\n",
    "    return morning, day, evening, night"
   ]
  },
  {
   "cell_type": "code",
   "execution_count": 54,
   "metadata": {},
   "outputs": [
    {
     "data": {
      "image/png": "[encoded data removed]",
      "text/plain": [
       "<Figure size 1080x432 with 2 Axes>"
      ]
     },
     "metadata": {},
     "output_type": "display_data"
    }
   ],
   "source": [
    "fig, ax = plt.subplots(1, 2, figsize=(15,6))\n",
    "\n",
    "morning, day, evening, night = define_part_of_day(train_df[train_df['target'] == 1])\n",
    "ax[0].hist([morning.sum(), day.sum(), evening.sum(), night.sum()], bins=4, rwidth=0.9)\n",
    "morning, day, evening, night = define_part_of_day(train_df[train_df['target'] == 0])\n",
    "ax[1].hist([morning.sum(), day.sum(), evening.sum(), night.sum()], bins=4, rwidth=0.9)\n",
    "\n",
    "ax[0].set_xticks(ticks=[i for i in [250, 850, 1450, 2000]])\n",
    "ax[1].set_xticks(ticks=[i for i in [15000, 45000, 75000, 105000]])\n",
    "ax[0].set_xticklabels(labels=['morning', 'day', 'evening', 'night'])\n",
    "ax[1].set_xticklabels(labels=['morning', 'day', 'evening', 'night'])\n",
    "ax[0].set_title('Посещение вебсайтов Alice (утро, день, вечер, ночь)')\n",
    "ax[1].set_title('Посещение вебсайтов пользователями (утро, день, вечер, ночь)')\n",
    "\n",
    "plt.show()"
   ]
  },
  {
   "cell_type": "code",
   "execution_count": 55,
   "metadata": {},
   "outputs": [
    {
     "name": "stdout",
     "output_type": "stream",
     "text": [
      "K Fold: 1\n",
      "roc_auc_score = 0.9215002888747204\n",
      "K Fold: 2\n",
      "roc_auc_score = 0.8951535072049541\n",
      "K Fold: 3\n",
      "roc_auc_score = 0.956887779362815\n",
      "K Fold: 4\n",
      "roc_auc_score = 0.9635859489862816\n",
      "K Fold: 5\n",
      "roc_auc_score = 0.978187245897732\n",
      "Mean roc_auc_score = 0.9430629540653006\n"
     ]
    }
   ],
   "source": [
    "tscv = TimeSeriesSplit(n_splits=5)\n",
    "\n",
    "X_for_tscv = hstack((X_sites_tfidf, X_domens_tfidf))\n",
    "i = 1\n",
    "\n",
    "scores = []\n",
    "\n",
    "for train_index, test_index in tscv.split(X_for_tscv):\n",
    "#     print(\"TRAIN:\", train_index, \"TEST:\", test_index)\n",
    "    \n",
    "    X_train = hstack((X_for_tscv.tocsr()[train_index,:], \n",
    "                     coo_matrix(train_df.iloc[train_index].time1.apply(lambda x: pd.to_datetime(x).dayofweek)).T))\n",
    "    morning, day, evening, night = define_part_of_day(train_df.iloc[train_index])\n",
    "    X_train = hstack([X_train, morning.values.reshape(-1, 1), \n",
    "                               day.values.reshape(-1, 1), \n",
    "                               evening.values.reshape(-1, 1), \n",
    "                               night.values.reshape(-1, 1)])\n",
    "    \n",
    "    X_test = hstack((X_for_tscv.tocsr()[test_index,:], \n",
    "                     coo_matrix(train_df.iloc[test_index].time1.apply(lambda x: pd.to_datetime(x).dayofweek)).T))\n",
    "    morning, day, evening, night = define_part_of_day(train_df.iloc[test_index])\n",
    "    X_test = hstack([X_test, morning.values.reshape(-1, 1), \n",
    "                               day.values.reshape(-1, 1), \n",
    "                               evening.values.reshape(-1, 1), \n",
    "                               night.values.reshape(-1, 1)])\n",
    "    \n",
    "    y_train, y_test = y.iloc[train_index], y.iloc[test_index]\n",
    "    \n",
    "    \n",
    "    \n",
    "    roc_auc_score = get_auc_lr_valid_with_params(X_train, X_test, y_train, y_test,\n",
    "                                                 C=logit_grid_searcher.best_params_['C'], \n",
    "                                                 solver=logit_grid_searcher.best_params_['solver'])\n",
    "    print(f\"K Fold: {i}\")\n",
    "    print(f\"roc_auc_score = {roc_auc_score}\")\n",
    "    scores.append(roc_auc_score)\n",
    "    i += 1\n",
    "print(f\"Mean roc_auc_score = {np.mean(scores)}\")"
   ]
  },
  {
   "cell_type": "code",
   "execution_count": 56,
   "metadata": {},
   "outputs": [
    {
     "name": "stdout",
     "output_type": "stream",
     "text": [
      "CPU times: user 39.1 s, sys: 795 ms, total: 39.9 s\n",
      "Wall time: 24.7 s\n"
     ]
    },
    {
     "data": {
      "text/plain": [
       "'Done!'"
      ]
     },
     "execution_count": 56,
     "metadata": {},
     "output_type": "execute_result"
    }
   ],
   "source": [
    "%%time\n",
    "\n",
    "n_ngram = 3\n",
    "\n",
    "# domens\n",
    "tfidf_domen = TfidfVectorizer(ngram_range=(1, n_ngram))\n",
    "X_domens_tfidf = tfidf_domen.fit_transform(X_domens)\n",
    "test_domens_tfidf = tfidf_domen.transform(test_domens)\n",
    "\n",
    "# sites\n",
    "tfidf = TfidfVectorizer(ngram_range=(1, n_ngram), max_features=50000)\n",
    "X_sites_tfidf = tfidf.fit_transform(X_sites)\n",
    "test_sites_tfidf = tfidf.transform(test_sites)\n",
    "\n",
    "X_train_tmp = hstack((X_sites_tfidf, X_domens_tfidf))\n",
    "X_train_tmp = hstack((X_train_tmp, coo_matrix(train_df.time1.apply(lambda x: pd.to_datetime(x).dayofweek)).T))\n",
    "morning, day, evening, night = define_part_of_day(train_df)\n",
    "X_train_tmp = hstack([X_train_tmp, morning.values.reshape(-1, 1), \n",
    "                                   day.values.reshape(-1, 1), \n",
    "                                   evening.values.reshape(-1, 1), \n",
    "                                   night.values.reshape(-1, 1)])\n",
    "\n",
    "X_test_tmp = hstack((test_sites_tfidf, test_domens_tfidf))\n",
    "X_test_tmp = hstack((X_test_tmp, coo_matrix(test_df.time1.apply(lambda x: pd.to_datetime(x).dayofweek)).T))\n",
    "morning, day, evening, night = define_part_of_day(test_df)\n",
    "X_test_tmp = hstack([X_test_tmp, morning.values.reshape(-1, 1), \n",
    "                                   day.values.reshape(-1, 1), \n",
    "                                   evening.values.reshape(-1, 1), \n",
    "                                   night.values.reshape(-1, 1)])\n",
    "\n",
    "get_auc_lr_valid_with_params(X_train_tmp,\n",
    "                 X_test_tmp,\n",
    "                 y, \n",
    "                 C=logit_grid_searcher.best_params_['C'], solver=logit_grid_searcher.best_params_['solver'],\n",
    "                 for_test=True, out_file='predictions.csv')"
   ]
  },
  {
   "cell_type": "markdown",
   "metadata": {},
   "source": [
    "### Среднее время сессии"
   ]
  },
  {
   "cell_type": "code",
   "execution_count": 57,
   "metadata": {},
   "outputs": [
    {
     "name": "stdout",
     "output_type": "stream",
     "text": [
      "CPU times: user 1min 30s, sys: 1.32 s, total: 1min 32s\n",
      "Wall time: 1min 32s\n"
     ]
    },
    {
     "data": {
      "text/html": [
       "<div>\n",
       "<style scoped>\n",
       "    .dataframe tbody tr th:only-of-type {\n",
       "        vertical-align: middle;\n",
       "    }\n",
       "\n",
       "    .dataframe tbody tr th {\n",
       "        vertical-align: top;\n",
       "    }\n",
       "\n",
       "    .dataframe thead th {\n",
       "        text-align: right;\n",
       "    }\n",
       "</style>\n",
       "<table border=\"1\" class=\"dataframe\">\n",
       "  <thead>\n",
       "    <tr style=\"text-align: right;\">\n",
       "      <th></th>\n",
       "      <th>time1</th>\n",
       "      <th>time2</th>\n",
       "      <th>time3</th>\n",
       "      <th>time4</th>\n",
       "      <th>time5</th>\n",
       "      <th>time6</th>\n",
       "      <th>time7</th>\n",
       "      <th>time8</th>\n",
       "      <th>time9</th>\n",
       "      <th>time10</th>\n",
       "      <th>num_notnull</th>\n",
       "      <th>time_of_session</th>\n",
       "    </tr>\n",
       "    <tr>\n",
       "      <th>session_id</th>\n",
       "      <th></th>\n",
       "      <th></th>\n",
       "      <th></th>\n",
       "      <th></th>\n",
       "      <th></th>\n",
       "      <th></th>\n",
       "      <th></th>\n",
       "      <th></th>\n",
       "      <th></th>\n",
       "      <th></th>\n",
       "      <th></th>\n",
       "      <th></th>\n",
       "    </tr>\n",
       "  </thead>\n",
       "  <tbody>\n",
       "    <tr>\n",
       "      <th>27554</th>\n",
       "      <td>2013-11-15 07:39:35</td>\n",
       "      <td>2013-11-15 07:39:35</td>\n",
       "      <td>2013-11-15 07:39:36</td>\n",
       "      <td>2013-11-15 07:39:36</td>\n",
       "      <td>2013-11-15 07:39:40</td>\n",
       "      <td>2013-11-15 07:39:41</td>\n",
       "      <td>2013-11-15 07:42:50</td>\n",
       "      <td>2013-11-15 07:42:50</td>\n",
       "      <td>2013-11-15 07:42:50</td>\n",
       "      <td>2013-11-15 07:44:25</td>\n",
       "      <td>10</td>\n",
       "      <td>290</td>\n",
       "    </tr>\n",
       "    <tr>\n",
       "      <th>81350</th>\n",
       "      <td>2013-11-15 07:44:25</td>\n",
       "      <td>2013-11-15 07:44:25</td>\n",
       "      <td>2013-11-15 07:57:45</td>\n",
       "      <td>2013-11-15 07:57:45</td>\n",
       "      <td>2013-11-15 07:57:45</td>\n",
       "      <td>2013-11-15 07:57:46</td>\n",
       "      <td>2013-11-15 07:57:47</td>\n",
       "      <td>2013-11-15 07:57:49</td>\n",
       "      <td>2013-11-15 07:57:49</td>\n",
       "      <td>2013-11-15 07:57:49</td>\n",
       "      <td>10</td>\n",
       "      <td>804</td>\n",
       "    </tr>\n",
       "    <tr>\n",
       "      <th>234665</th>\n",
       "      <td>2013-11-15 07:52:17</td>\n",
       "      <td>2013-11-15 07:52:18</td>\n",
       "      <td>2013-11-15 07:52:19</td>\n",
       "      <td>2013-11-15 07:52:19</td>\n",
       "      <td>2013-11-15 07:52:20</td>\n",
       "      <td>2013-11-15 07:52:20</td>\n",
       "      <td>2013-11-15 07:52:23</td>\n",
       "      <td>2013-11-15 07:52:26</td>\n",
       "      <td>2013-11-15 07:52:26</td>\n",
       "      <td>2013-11-15 07:52:28</td>\n",
       "      <td>10</td>\n",
       "      <td>11</td>\n",
       "    </tr>\n",
       "    <tr>\n",
       "      <th>97610</th>\n",
       "      <td>2013-11-15 07:52:28</td>\n",
       "      <td>2013-11-15 07:52:29</td>\n",
       "      <td>2013-11-15 07:52:37</td>\n",
       "      <td>2013-11-15 07:52:37</td>\n",
       "      <td>2013-11-15 07:55:10</td>\n",
       "      <td>2013-11-15 07:55:10</td>\n",
       "      <td>2013-11-15 07:55:56</td>\n",
       "      <td>2013-11-15 07:57:50</td>\n",
       "      <td>2013-11-15 08:01:18</td>\n",
       "      <td>2013-11-15 08:01:26</td>\n",
       "      <td>10</td>\n",
       "      <td>538</td>\n",
       "    </tr>\n",
       "    <tr>\n",
       "      <th>161358</th>\n",
       "      <td>2013-11-15 07:57:50</td>\n",
       "      <td>2013-11-15 07:57:51</td>\n",
       "      <td>2013-11-15 07:59:34</td>\n",
       "      <td>2013-11-15 07:59:34</td>\n",
       "      <td>2013-11-15 07:59:34</td>\n",
       "      <td>2013-11-15 07:59:34</td>\n",
       "      <td>2013-11-15 07:59:34</td>\n",
       "      <td>2013-11-15 07:59:34</td>\n",
       "      <td>2013-11-15 07:59:34</td>\n",
       "      <td>2013-11-15 07:59:34</td>\n",
       "      <td>5</td>\n",
       "      <td>104</td>\n",
       "    </tr>\n",
       "    <tr>\n",
       "      <th>...</th>\n",
       "      <td>...</td>\n",
       "      <td>...</td>\n",
       "      <td>...</td>\n",
       "      <td>...</td>\n",
       "      <td>...</td>\n",
       "      <td>...</td>\n",
       "      <td>...</td>\n",
       "      <td>...</td>\n",
       "      <td>...</td>\n",
       "      <td>...</td>\n",
       "      <td>...</td>\n",
       "      <td>...</td>\n",
       "    </tr>\n",
       "    <tr>\n",
       "      <th>129606</th>\n",
       "      <td>2014-05-03 18:06:13</td>\n",
       "      <td>2014-05-03 18:06:13</td>\n",
       "      <td>2014-05-03 18:06:13</td>\n",
       "      <td>2014-05-03 18:06:13</td>\n",
       "      <td>2014-05-03 18:06:13</td>\n",
       "      <td>2014-05-03 18:06:13</td>\n",
       "      <td>2014-05-03 18:06:13</td>\n",
       "      <td>2014-05-03 18:06:13</td>\n",
       "      <td>2014-05-03 18:06:13</td>\n",
       "      <td>2014-05-03 18:06:13</td>\n",
       "      <td>1</td>\n",
       "      <td>0</td>\n",
       "    </tr>\n",
       "    <tr>\n",
       "      <th>53628</th>\n",
       "      <td>2014-05-03 18:09:26</td>\n",
       "      <td>2014-05-03 18:09:26</td>\n",
       "      <td>2014-05-03 18:09:26</td>\n",
       "      <td>2014-05-03 18:09:26</td>\n",
       "      <td>2014-05-03 18:09:26</td>\n",
       "      <td>2014-05-03 18:09:26</td>\n",
       "      <td>2014-05-03 18:09:26</td>\n",
       "      <td>2014-05-03 18:09:26</td>\n",
       "      <td>2014-05-03 18:09:26</td>\n",
       "      <td>2014-05-03 18:09:26</td>\n",
       "      <td>1</td>\n",
       "      <td>0</td>\n",
       "    </tr>\n",
       "    <tr>\n",
       "      <th>84754</th>\n",
       "      <td>2014-05-03 18:11:21</td>\n",
       "      <td>2014-05-03 18:11:21</td>\n",
       "      <td>2014-05-03 18:11:21</td>\n",
       "      <td>2014-05-03 18:11:21</td>\n",
       "      <td>2014-05-03 18:11:21</td>\n",
       "      <td>2014-05-03 18:11:21</td>\n",
       "      <td>2014-05-03 18:11:21</td>\n",
       "      <td>2014-05-03 18:11:21</td>\n",
       "      <td>2014-05-03 18:11:21</td>\n",
       "      <td>2014-05-03 18:11:21</td>\n",
       "      <td>1</td>\n",
       "      <td>0</td>\n",
       "    </tr>\n",
       "    <tr>\n",
       "      <th>153398</th>\n",
       "      <td>2014-05-03 18:15:57</td>\n",
       "      <td>2014-05-03 18:15:58</td>\n",
       "      <td>2014-05-03 18:15:58</td>\n",
       "      <td>2014-05-03 18:15:58</td>\n",
       "      <td>2014-05-03 18:15:58</td>\n",
       "      <td>2014-05-03 18:15:58</td>\n",
       "      <td>2014-05-03 18:15:58</td>\n",
       "      <td>2014-05-03 18:15:58</td>\n",
       "      <td>2014-05-03 18:15:58</td>\n",
       "      <td>2014-05-03 18:15:58</td>\n",
       "      <td>2</td>\n",
       "      <td>1</td>\n",
       "    </tr>\n",
       "    <tr>\n",
       "      <th>11690</th>\n",
       "      <td>2014-05-04 17:30:57</td>\n",
       "      <td>2014-05-04 17:30:58</td>\n",
       "      <td>2014-05-04 17:31:00</td>\n",
       "      <td>2014-05-04 17:33:07</td>\n",
       "      <td>2014-05-04 17:33:07</td>\n",
       "      <td>2014-05-04 17:33:07</td>\n",
       "      <td>2014-05-04 17:33:07</td>\n",
       "      <td>2014-05-04 17:33:07</td>\n",
       "      <td>2014-05-04 17:33:07</td>\n",
       "      <td>2014-05-04 17:33:07</td>\n",
       "      <td>4</td>\n",
       "      <td>130</td>\n",
       "    </tr>\n",
       "  </tbody>\n",
       "</table>\n",
       "<p>253561 rows × 12 columns</p>\n",
       "</div>"
      ],
      "text/plain": [
       "                         time1               time2               time3  \\\n",
       "session_id                                                               \n",
       "27554      2013-11-15 07:39:35 2013-11-15 07:39:35 2013-11-15 07:39:36   \n",
       "81350      2013-11-15 07:44:25 2013-11-15 07:44:25 2013-11-15 07:57:45   \n",
       "234665     2013-11-15 07:52:17 2013-11-15 07:52:18 2013-11-15 07:52:19   \n",
       "97610      2013-11-15 07:52:28 2013-11-15 07:52:29 2013-11-15 07:52:37   \n",
       "161358     2013-11-15 07:57:50 2013-11-15 07:57:51 2013-11-15 07:59:34   \n",
       "...                        ...                 ...                 ...   \n",
       "129606     2014-05-03 18:06:13 2014-05-03 18:06:13 2014-05-03 18:06:13   \n",
       "53628      2014-05-03 18:09:26 2014-05-03 18:09:26 2014-05-03 18:09:26   \n",
       "84754      2014-05-03 18:11:21 2014-05-03 18:11:21 2014-05-03 18:11:21   \n",
       "153398     2014-05-03 18:15:57 2014-05-03 18:15:58 2014-05-03 18:15:58   \n",
       "11690      2014-05-04 17:30:57 2014-05-04 17:30:58 2014-05-04 17:31:00   \n",
       "\n",
       "                         time4               time5               time6  \\\n",
       "session_id                                                               \n",
       "27554      2013-11-15 07:39:36 2013-11-15 07:39:40 2013-11-15 07:39:41   \n",
       "81350      2013-11-15 07:57:45 2013-11-15 07:57:45 2013-11-15 07:57:46   \n",
       "234665     2013-11-15 07:52:19 2013-11-15 07:52:20 2013-11-15 07:52:20   \n",
       "97610      2013-11-15 07:52:37 2013-11-15 07:55:10 2013-11-15 07:55:10   \n",
       "161358     2013-11-15 07:59:34 2013-11-15 07:59:34 2013-11-15 07:59:34   \n",
       "...                        ...                 ...                 ...   \n",
       "129606     2014-05-03 18:06:13 2014-05-03 18:06:13 2014-05-03 18:06:13   \n",
       "53628      2014-05-03 18:09:26 2014-05-03 18:09:26 2014-05-03 18:09:26   \n",
       "84754      2014-05-03 18:11:21 2014-05-03 18:11:21 2014-05-03 18:11:21   \n",
       "153398     2014-05-03 18:15:58 2014-05-03 18:15:58 2014-05-03 18:15:58   \n",
       "11690      2014-05-04 17:33:07 2014-05-04 17:33:07 2014-05-04 17:33:07   \n",
       "\n",
       "                         time7               time8               time9  \\\n",
       "session_id                                                               \n",
       "27554      2013-11-15 07:42:50 2013-11-15 07:42:50 2013-11-15 07:42:50   \n",
       "81350      2013-11-15 07:57:47 2013-11-15 07:57:49 2013-11-15 07:57:49   \n",
       "234665     2013-11-15 07:52:23 2013-11-15 07:52:26 2013-11-15 07:52:26   \n",
       "97610      2013-11-15 07:55:56 2013-11-15 07:57:50 2013-11-15 08:01:18   \n",
       "161358     2013-11-15 07:59:34 2013-11-15 07:59:34 2013-11-15 07:59:34   \n",
       "...                        ...                 ...                 ...   \n",
       "129606     2014-05-03 18:06:13 2014-05-03 18:06:13 2014-05-03 18:06:13   \n",
       "53628      2014-05-03 18:09:26 2014-05-03 18:09:26 2014-05-03 18:09:26   \n",
       "84754      2014-05-03 18:11:21 2014-05-03 18:11:21 2014-05-03 18:11:21   \n",
       "153398     2014-05-03 18:15:58 2014-05-03 18:15:58 2014-05-03 18:15:58   \n",
       "11690      2014-05-04 17:33:07 2014-05-04 17:33:07 2014-05-04 17:33:07   \n",
       "\n",
       "                        time10  num_notnull  time_of_session  \n",
       "session_id                                                    \n",
       "27554      2013-11-15 07:44:25           10              290  \n",
       "81350      2013-11-15 07:57:49           10              804  \n",
       "234665     2013-11-15 07:52:28           10               11  \n",
       "97610      2013-11-15 08:01:26           10              538  \n",
       "161358     2013-11-15 07:59:34            5              104  \n",
       "...                        ...          ...              ...  \n",
       "129606     2014-05-03 18:06:13            1                0  \n",
       "53628      2014-05-03 18:09:26            1                0  \n",
       "84754      2014-05-03 18:11:21            1                0  \n",
       "153398     2014-05-03 18:15:58            2                1  \n",
       "11690      2014-05-04 17:33:07            4              130  \n",
       "\n",
       "[253561 rows x 12 columns]"
      ]
     },
     "execution_count": 57,
     "metadata": {},
     "output_type": "execute_result"
    }
   ],
   "source": [
    "%%time\n",
    "\n",
    "tmp_time = train_df[times].copy()\n",
    "\n",
    "col_nulls = 10-tmp_time.isnull().sum(axis=1)\n",
    "tmp_time = tmp_time.fillna(method='ffill', axis=1)\n",
    "tmp_time['num_notnull'] = col_nulls\n",
    "tmp_time['time_of_session'] = tmp_time.apply(lambda x: (pd.to_datetime(x.time2)-pd.to_datetime(x.time1)).seconds+\n",
    "                         (pd.to_datetime(x.time3)-pd.to_datetime(x.time2)).seconds+\n",
    "                         (pd.to_datetime(x.time4)-pd.to_datetime(x.time3)).seconds+\n",
    "                         (pd.to_datetime(x.time5)-pd.to_datetime(x.time4)).seconds+\n",
    "                         (pd.to_datetime(x.time6)-pd.to_datetime(x.time5)).seconds+\n",
    "                         (pd.to_datetime(x.time7)-pd.to_datetime(x.time6)).seconds+\n",
    "                         (pd.to_datetime(x.time8)-pd.to_datetime(x.time7)).seconds+\n",
    "                         (pd.to_datetime(x.time9)-pd.to_datetime(x.time8)).seconds+\n",
    "                         (pd.to_datetime(x.time10)-pd.to_datetime(x.time9)).seconds, axis=1)\n",
    "\n",
    "tmp_time_test = test_df[times].copy()\n",
    "\n",
    "col_nulls = 10-tmp_time_test.isnull().sum(axis=1)\n",
    "tmp_time_test = tmp_time_test.fillna(method='ffill', axis=1)\n",
    "tmp_time_test['num_notnull'] = col_nulls\n",
    "tmp_time_test['time_of_session'] = tmp_time_test.apply(lambda x: \n",
    "                         (pd.to_datetime(x.time2)-pd.to_datetime(x.time1)).seconds+\n",
    "                         (pd.to_datetime(x.time3)-pd.to_datetime(x.time2)).seconds+\n",
    "                         (pd.to_datetime(x.time4)-pd.to_datetime(x.time3)).seconds+\n",
    "                         (pd.to_datetime(x.time5)-pd.to_datetime(x.time4)).seconds+\n",
    "                         (pd.to_datetime(x.time6)-pd.to_datetime(x.time5)).seconds+\n",
    "                         (pd.to_datetime(x.time7)-pd.to_datetime(x.time6)).seconds+\n",
    "                         (pd.to_datetime(x.time8)-pd.to_datetime(x.time7)).seconds+\n",
    "                         (pd.to_datetime(x.time9)-pd.to_datetime(x.time8)).seconds+\n",
    "                         (pd.to_datetime(x.time10)-pd.to_datetime(x.time9)).seconds, axis=1)\n",
    "\n",
    "tmp_time"
   ]
  },
  {
   "cell_type": "code",
   "execution_count": 74,
   "metadata": {},
   "outputs": [
    {
     "data": {
      "image/png": "[encoded data removed]",
      "text/plain": [
       "<Figure size 1080x432 with 2 Axes>"
      ]
     },
     "metadata": {},
     "output_type": "display_data"
    }
   ],
   "source": [
    "fig, ax = plt.subplots(1, 2, figsize=(15,6))\n",
    "\n",
    "ax[0].hist(tmp_time.loc[train_df[train_df.target==1].index, 'time_of_session'])\n",
    "ax[1].hist(tmp_time.loc[train_df[train_df.target==0].index, 'time_of_session'])\n",
    "\n",
    "ax[0].set_title('Среднее время сессии Alice')\n",
    "ax[1].set_title('Среднее время сессии пользователей')\n",
    "\n",
    "ax[0].set_xlabel('seconds')\n",
    "ax[1].set_xlabel('seconds')\n",
    "\n",
    "plt.show()"
   ]
  },
  {
   "cell_type": "code",
   "execution_count": 76,
   "metadata": {},
   "outputs": [
    {
     "name": "stdout",
     "output_type": "stream",
     "text": [
      "K Fold: 1\n",
      "roc_auc_score = 0.921738155235221\n",
      "K Fold: 2\n",
      "roc_auc_score = 0.8961885521885521\n",
      "K Fold: 3\n",
      "roc_auc_score = 0.9576472895863053\n",
      "K Fold: 4\n",
      "roc_auc_score = 0.963933104291057\n",
      "K Fold: 5\n",
      "roc_auc_score = 0.9782486700231122\n",
      "Mean roc_auc_score = 0.9435511542648495\n"
     ]
    }
   ],
   "source": [
    "st = StandardScaler()\n",
    "time_of_session_train = st.fit_transform(tmp_time['time_of_session'].values.reshape(-1, 1))\n",
    "time_of_session_test = st.transform(tmp_time_test['time_of_session'].values.reshape(-1, 1))\n",
    "\n",
    "tscv = TimeSeriesSplit(n_splits=5)\n",
    "\n",
    "X_for_tscv = hstack((X_sites_tfidf, X_domens_tfidf, time_of_session_train))\n",
    "i = 1\n",
    "\n",
    "scores = []\n",
    "\n",
    "for train_index, test_index in tscv.split(X_for_tscv):\n",
    "#     print(\"TRAIN:\", train_index, \"TEST:\", test_index)\n",
    "    \n",
    "    X_train = hstack((X_for_tscv.tocsr()[train_index,:], \n",
    "                     coo_matrix(train_df.iloc[train_index].time1.apply(lambda x: pd.to_datetime(x).dayofweek)).T))\n",
    "    morning, day, evening, night = define_part_of_day(train_df.iloc[train_index])\n",
    "    X_train = hstack([X_train, morning.values.reshape(-1, 1), \n",
    "                               day.values.reshape(-1, 1), \n",
    "                               evening.values.reshape(-1, 1), \n",
    "                               night.values.reshape(-1, 1)])\n",
    "    \n",
    "    X_test = hstack((X_for_tscv.tocsr()[test_index,:], \n",
    "                     coo_matrix(train_df.iloc[test_index].time1.apply(lambda x: pd.to_datetime(x).dayofweek)).T))\n",
    "    morning, day, evening, night = define_part_of_day(train_df.iloc[test_index])\n",
    "    X_test = hstack([X_test, morning.values.reshape(-1, 1), \n",
    "                               day.values.reshape(-1, 1), \n",
    "                               evening.values.reshape(-1, 1), \n",
    "                               night.values.reshape(-1, 1)])\n",
    "    \n",
    "    y_train, y_test = y.iloc[train_index], y.iloc[test_index]\n",
    "    \n",
    "    \n",
    "    \n",
    "    roc_auc_score = get_auc_lr_valid_with_params(X_train, X_test, y_train, y_test,\n",
    "                                                 C=logit_grid_searcher.best_params_['C'], \n",
    "                                                 solver=logit_grid_searcher.best_params_['solver'])\n",
    "    print(f\"K Fold: {i}\")\n",
    "    print(f\"roc_auc_score = {roc_auc_score}\")\n",
    "    scores.append(roc_auc_score)\n",
    "    i += 1\n",
    "print(f\"Mean roc_auc_score = {np.mean(scores)}\")"
   ]
  },
  {
   "cell_type": "code",
   "execution_count": 77,
   "metadata": {},
   "outputs": [
    {
     "name": "stdout",
     "output_type": "stream",
     "text": [
      "CPU times: user 45.7 s, sys: 1.49 s, total: 47.2 s\n",
      "Wall time: 28.5 s\n"
     ]
    },
    {
     "data": {
      "text/plain": [
       "'Done!'"
      ]
     },
     "execution_count": 77,
     "metadata": {},
     "output_type": "execute_result"
    }
   ],
   "source": [
    "%%time\n",
    "\n",
    "n_ngram = 3\n",
    "\n",
    "# domens\n",
    "tfidf_domen = TfidfVectorizer(ngram_range=(1, n_ngram))\n",
    "X_domens_tfidf = tfidf_domen.fit_transform(X_domens)\n",
    "test_domens_tfidf = tfidf_domen.transform(test_domens)\n",
    "\n",
    "# sites\n",
    "tfidf = TfidfVectorizer(ngram_range=(1, n_ngram), max_features=50000)\n",
    "X_sites_tfidf = tfidf.fit_transform(X_sites)\n",
    "test_sites_tfidf = tfidf.transform(test_sites)\n",
    "\n",
    "#mean time of session\n",
    "st = StandardScaler()\n",
    "time_of_session_train = st.fit_transform(tmp_time['time_of_session'].values.reshape(-1, 1))\n",
    "time_of_session_test = st.transform(tmp_time_test['time_of_session'].values.reshape(-1, 1))\n",
    "\n",
    "X_train_tmp = hstack((X_sites_tfidf, X_domens_tfidf, time_of_session_train))\n",
    "X_train_tmp = hstack((X_train_tmp, coo_matrix(train_df.time1.apply(lambda x: pd.to_datetime(x).dayofweek)).T))\n",
    "morning, day, evening, night = define_part_of_day(train_df)\n",
    "X_train_tmp = hstack([X_train_tmp, morning.values.reshape(-1, 1), \n",
    "                                   day.values.reshape(-1, 1), \n",
    "                                   evening.values.reshape(-1, 1), \n",
    "                                   night.values.reshape(-1, 1)])\n",
    "\n",
    "X_test_tmp = hstack((test_sites_tfidf, test_domens_tfidf, time_of_session_test))\n",
    "X_test_tmp = hstack((X_test_tmp, coo_matrix(test_df.time1.apply(lambda x: pd.to_datetime(x).dayofweek)).T))\n",
    "morning, day, evening, night = define_part_of_day(test_df)\n",
    "X_test_tmp = hstack([X_test_tmp, morning.values.reshape(-1, 1), \n",
    "                                   day.values.reshape(-1, 1), \n",
    "                                   evening.values.reshape(-1, 1), \n",
    "                                   night.values.reshape(-1, 1)])\n",
    "\n",
    "get_auc_lr_valid_with_params(X_train_tmp,\n",
    "                 X_test_tmp,\n",
    "                 y, \n",
    "                 C=logit_grid_searcher.best_params_['C'], solver=logit_grid_searcher.best_params_['solver'],\n",
    "                 for_test=True, out_file='predictions.csv')"
   ]
  },
  {
   "cell_type": "markdown",
   "metadata": {},
   "source": [
    "### Количество уникальных сайтов/доменов за сессию"
   ]
  },
  {
   "cell_type": "code",
   "execution_count": 78,
   "metadata": {},
   "outputs": [],
   "source": [
    "train_df['unique_sites'] = train_df.apply(lambda x: len(set([x[f\"site{i}\"] for i in range(1, 11)])), axis=1)\n",
    "test_df['unique_sites'] = test_df.apply(lambda x: len(set([x[f\"site{i}\"] for i in range(1, 11)])), axis=1)\n",
    "\n",
    "train_df['unique_domens'] = train_df.apply(lambda x: len(set([x[f\"site{i}_domen\"] for i in range(1, 11)])), axis=1)\n",
    "test_df['unique_domens'] = test_df.apply(lambda x: len(set([x[f\"site{i}_domen\"] for i in range(1, 11)])), axis=1)"
   ]
  },
  {
   "cell_type": "code",
   "execution_count": 80,
   "metadata": {},
   "outputs": [
    {
     "data": {
      "image/png": "[encoded data removed]",
      "text/plain": [
       "<Figure size 1080x432 with 2 Axes>"
      ]
     },
     "metadata": {},
     "output_type": "display_data"
    }
   ],
   "source": [
    "fig, ax = plt.subplots(1, 2, figsize=(15,6))\n",
    "\n",
    "ax[0].hist(train_df[train_df.target==1].unique_sites)\n",
    "ax[1].hist(train_df[train_df.target==0].unique_sites)\n",
    "\n",
    "ax[0].set_title('Количество уникальных сайтов за сессию Alice')\n",
    "ax[1].set_title('Количество уникальных сайтов за сессию пользователей')\n",
    "\n",
    "ax[0].set_xlabel('num unique sites')\n",
    "ax[1].set_xlabel('num unique sites')\n",
    "\n",
    "plt.show()"
   ]
  },
  {
   "cell_type": "code",
   "execution_count": 82,
   "metadata": {},
   "outputs": [
    {
     "name": "stdout",
     "output_type": "stream",
     "text": [
      "K Fold: 1\n",
      "roc_auc_score = 0.9214803371888776\n",
      "K Fold: 2\n",
      "roc_auc_score = 0.8959812920198772\n",
      "K Fold: 3\n",
      "roc_auc_score = 0.9574062054208274\n",
      "K Fold: 4\n",
      "roc_auc_score = 0.9644896953766899\n",
      "K Fold: 5\n",
      "roc_auc_score = 0.9786457387013019\n",
      "Mean roc_auc_score = 0.9436006537415148\n"
     ]
    }
   ],
   "source": [
    "#mean time of session\n",
    "st = StandardScaler()\n",
    "time_of_session_train = st.fit_transform(tmp_time['time_of_session'].values.reshape(-1, 1))\n",
    "time_of_session_test = st.transform(tmp_time_test['time_of_session'].values.reshape(-1, 1))\n",
    "\n",
    "#number unique sites for session\n",
    "st = StandardScaler()\n",
    "unique_sites_train = st.fit_transform(train_df['unique_sites'].values.reshape(-1, 1))\n",
    "unique_sites_test = st.transform(test_df['unique_sites'].values.reshape(-1, 1))\n",
    "\n",
    "tscv = TimeSeriesSplit(n_splits=5)\n",
    "\n",
    "X_for_tscv = hstack((X_sites_tfidf, X_domens_tfidf, time_of_session_train, unique_sites_train))\n",
    "i = 1\n",
    "\n",
    "scores = []\n",
    "\n",
    "for train_index, test_index in tscv.split(X_for_tscv):\n",
    "#     print(\"TRAIN:\", train_index, \"TEST:\", test_index)\n",
    "    \n",
    "    X_train = hstack((X_for_tscv.tocsr()[train_index,:], \n",
    "                     coo_matrix(train_df.iloc[train_index].time1.apply(lambda x: pd.to_datetime(x).dayofweek)).T))\n",
    "    morning, day, evening, night = define_part_of_day(train_df.iloc[train_index])\n",
    "    X_train = hstack([X_train, morning.values.reshape(-1, 1), \n",
    "                               day.values.reshape(-1, 1), \n",
    "                               evening.values.reshape(-1, 1), \n",
    "                               night.values.reshape(-1, 1)])\n",
    "    \n",
    "    X_test = hstack((X_for_tscv.tocsr()[test_index,:], \n",
    "                     coo_matrix(train_df.iloc[test_index].time1.apply(lambda x: pd.to_datetime(x).dayofweek)).T))\n",
    "    morning, day, evening, night = define_part_of_day(train_df.iloc[test_index])\n",
    "    X_test = hstack([X_test, morning.values.reshape(-1, 1), \n",
    "                               day.values.reshape(-1, 1), \n",
    "                               evening.values.reshape(-1, 1), \n",
    "                               night.values.reshape(-1, 1)])\n",
    "    \n",
    "    y_train, y_test = y.iloc[train_index], y.iloc[test_index]\n",
    "    \n",
    "    \n",
    "    \n",
    "    roc_auc_score = get_auc_lr_valid_with_params(X_train, X_test, y_train, y_test,\n",
    "                                                 C=logit_grid_searcher.best_params_['C'], \n",
    "                                                 solver=logit_grid_searcher.best_params_['solver'])\n",
    "    print(f\"K Fold: {i}\")\n",
    "    print(f\"roc_auc_score = {roc_auc_score}\")\n",
    "    scores.append(roc_auc_score)\n",
    "    i += 1\n",
    "print(f\"Mean roc_auc_score = {np.mean(scores)}\")"
   ]
  },
  {
   "cell_type": "code",
   "execution_count": 88,
   "metadata": {},
   "outputs": [
    {
     "data": {
      "image/png": "[encoded data removed]",
      "text/plain": [
       "<Figure size 1080x432 with 2 Axes>"
      ]
     },
     "metadata": {},
     "output_type": "display_data"
    }
   ],
   "source": [
    "fig, ax = plt.subplots(1, 2, figsize=(15,6))\n",
    "\n",
    "ax[0].hist(train_df[train_df.target==1].unique_domens, bins=6)\n",
    "ax[1].hist(train_df[train_df.target==0].unique_domens, bins=6)\n",
    "\n",
    "ax[0].set_title('Количество уникальных доменов за сессию Alice')\n",
    "ax[1].set_title('Количество уникальных доменов за сессию пользователей')\n",
    "\n",
    "ax[0].set_xlabel('num unique sites')\n",
    "ax[1].set_xlabel('num unique sites')\n",
    "\n",
    "plt.show()"
   ]
  },
  {
   "cell_type": "code",
   "execution_count": 83,
   "metadata": {},
   "outputs": [
    {
     "name": "stdout",
     "output_type": "stream",
     "text": [
      "K Fold: 1\n",
      "roc_auc_score = 0.9218005586389162\n",
      "K Fold: 2\n",
      "roc_auc_score = 0.8963165632747626\n",
      "K Fold: 3\n",
      "roc_auc_score = 0.9575392296718974\n",
      "K Fold: 4\n",
      "roc_auc_score = 0.9639120756258869\n",
      "K Fold: 5\n",
      "roc_auc_score = 0.9782431215334151\n",
      "Mean roc_auc_score = 0.9435623097489756\n"
     ]
    }
   ],
   "source": [
    "#mean time of session\n",
    "st = StandardScaler()\n",
    "time_of_session_train = st.fit_transform(tmp_time['time_of_session'].values.reshape(-1, 1))\n",
    "time_of_session_test = st.transform(tmp_time_test['time_of_session'].values.reshape(-1, 1))\n",
    "\n",
    "#number unique domens for session\n",
    "st = StandardScaler()\n",
    "unique_domens_train = st.fit_transform(train_df['unique_domens'].values.reshape(-1, 1))\n",
    "unique_domens_test = st.transform(test_df['unique_domens'].values.reshape(-1, 1))\n",
    "\n",
    "tscv = TimeSeriesSplit(n_splits=5)\n",
    "\n",
    "X_for_tscv = hstack((X_sites_tfidf, X_domens_tfidf, time_of_session_train, unique_domens_train))\n",
    "i = 1\n",
    "\n",
    "scores = []\n",
    "\n",
    "for train_index, test_index in tscv.split(X_for_tscv):\n",
    "#     print(\"TRAIN:\", train_index, \"TEST:\", test_index)\n",
    "    \n",
    "    X_train = hstack((X_for_tscv.tocsr()[train_index,:], \n",
    "                     coo_matrix(train_df.iloc[train_index].time1.apply(lambda x: pd.to_datetime(x).dayofweek)).T))\n",
    "    morning, day, evening, night = define_part_of_day(train_df.iloc[train_index])\n",
    "    X_train = hstack([X_train, morning.values.reshape(-1, 1), \n",
    "                               day.values.reshape(-1, 1), \n",
    "                               evening.values.reshape(-1, 1), \n",
    "                               night.values.reshape(-1, 1)])\n",
    "    \n",
    "    X_test = hstack((X_for_tscv.tocsr()[test_index,:], \n",
    "                     coo_matrix(train_df.iloc[test_index].time1.apply(lambda x: pd.to_datetime(x).dayofweek)).T))\n",
    "    morning, day, evening, night = define_part_of_day(train_df.iloc[test_index])\n",
    "    X_test = hstack([X_test, morning.values.reshape(-1, 1), \n",
    "                               day.values.reshape(-1, 1), \n",
    "                               evening.values.reshape(-1, 1), \n",
    "                               night.values.reshape(-1, 1)])\n",
    "    \n",
    "    y_train, y_test = y.iloc[train_index], y.iloc[test_index]\n",
    "    \n",
    "    \n",
    "    \n",
    "    roc_auc_score = get_auc_lr_valid_with_params(X_train, X_test, y_train, y_test,\n",
    "                                                 C=logit_grid_searcher.best_params_['C'], \n",
    "                                                 solver=logit_grid_searcher.best_params_['solver'])\n",
    "    print(f\"K Fold: {i}\")\n",
    "    print(f\"roc_auc_score = {roc_auc_score}\")\n",
    "    scores.append(roc_auc_score)\n",
    "    i += 1\n",
    "print(f\"Mean roc_auc_score = {np.mean(scores)}\")"
   ]
  },
  {
   "cell_type": "code",
   "execution_count": 89,
   "metadata": {},
   "outputs": [
    {
     "name": "stdout",
     "output_type": "stream",
     "text": [
      "CPU times: user 43.8 s, sys: 1.26 s, total: 45.1 s\n",
      "Wall time: 27.2 s\n"
     ]
    },
    {
     "data": {
      "text/plain": [
       "'Done!'"
      ]
     },
     "execution_count": 89,
     "metadata": {},
     "output_type": "execute_result"
    }
   ],
   "source": [
    "%%time\n",
    "\n",
    "n_ngram = 3\n",
    "\n",
    "# domens\n",
    "tfidf_domen = TfidfVectorizer(ngram_range=(1, n_ngram))\n",
    "X_domens_tfidf = tfidf_domen.fit_transform(X_domens)\n",
    "test_domens_tfidf = tfidf_domen.transform(test_domens)\n",
    "\n",
    "# sites\n",
    "tfidf = TfidfVectorizer(ngram_range=(1, n_ngram), max_features=50000)\n",
    "X_sites_tfidf = tfidf.fit_transform(X_sites)\n",
    "test_sites_tfidf = tfidf.transform(test_sites)\n",
    "\n",
    "#mean time of session\n",
    "st = StandardScaler()\n",
    "time_of_session_train = st.fit_transform(tmp_time['time_of_session'].values.reshape(-1, 1))\n",
    "time_of_session_test = st.transform(tmp_time_test['time_of_session'].values.reshape(-1, 1))\n",
    "\n",
    "#number unique sites for session\n",
    "st = StandardScaler()\n",
    "unique_sites_train = st.fit_transform(train_df['unique_sites'].values.reshape(-1, 1))\n",
    "unique_sites_test = st.transform(test_df['unique_sites'].values.reshape(-1, 1))\n",
    "\n",
    "X_train_tmp = hstack((X_sites_tfidf, X_domens_tfidf, time_of_session_train, unique_sites_train))\n",
    "X_train_tmp = hstack((X_train_tmp, coo_matrix(train_df.time1.apply(lambda x: pd.to_datetime(x).dayofweek)).T))\n",
    "morning, day, evening, night = define_part_of_day(train_df)\n",
    "X_train_tmp = hstack([X_train_tmp, morning.values.reshape(-1, 1), \n",
    "                                   day.values.reshape(-1, 1), \n",
    "                                   evening.values.reshape(-1, 1), \n",
    "                                   night.values.reshape(-1, 1)])\n",
    "\n",
    "X_test_tmp = hstack((test_sites_tfidf, test_domens_tfidf, time_of_session_test, unique_sites_test))\n",
    "X_test_tmp = hstack((X_test_tmp, coo_matrix(test_df.time1.apply(lambda x: pd.to_datetime(x).dayofweek)).T))\n",
    "morning, day, evening, night = define_part_of_day(test_df)\n",
    "X_test_tmp = hstack([X_test_tmp, morning.values.reshape(-1, 1), \n",
    "                                   day.values.reshape(-1, 1), \n",
    "                                   evening.values.reshape(-1, 1), \n",
    "                                   night.values.reshape(-1, 1)])\n",
    "\n",
    "get_auc_lr_valid_with_params(X_train_tmp,\n",
    "                 X_test_tmp,\n",
    "                 y, \n",
    "                 C=logit_grid_searcher.best_params_['C'], solver=logit_grid_searcher.best_params_['solver'],\n",
    "                 for_test=True, out_file='predictions.csv')"
   ]
  },
  {
   "cell_type": "markdown",
   "metadata": {},
   "source": [
    "### Топ-10 сайтов "
   ]
  },
  {
   "cell_type": "code",
   "execution_count": 90,
   "metadata": {},
   "outputs": [
    {
     "data": {
      "text/plain": [
       "30500"
      ]
     },
     "execution_count": 90,
     "metadata": {},
     "output_type": "execute_result"
    }
   ],
   "source": [
    "from collections import defaultdict\n",
    "\n",
    "popularity_site_dict = defaultdict(int) \n",
    "\n",
    "for row in pd.concat([train_df[sites], test_df[sites]]).values : \n",
    "    for site_id in np.unique(row): \n",
    "        popularity_site_dict[site_id]  +=  1 \n",
    "popularity_site_dict.pop(0)"
   ]
  },
  {
   "cell_type": "code",
   "execution_count": 91,
   "metadata": {},
   "outputs": [
    {
     "name": "stdout",
     "output_type": "stream",
     "text": [
      "CPU times: user 37.2 s, sys: 819 ms, total: 38 s\n",
      "Wall time: 38.3 s\n"
     ]
    }
   ],
   "source": [
    "%%time\n",
    "\n",
    "top_10 = sorted(list(popularity_site_dict.items()), key=lambda x: x[1], reverse = True)[:10]\n",
    "top_10 = set([element[0] for element in top_10])\n",
    "\n",
    "train_df['set_unique_sites'] = train_df.apply(lambda x: set([x[f\"site{i}\"] for i in range(1, 11)]), axis=1)\n",
    "test_df['set_unique_sites'] = train_df.apply(lambda x: set([x[f\"site{i}\"] for i in range(1, 11)]), axis=1)\n",
    "\n",
    "train_df['have_top_10'] = train_df['set_unique_sites'].apply(lambda x: 1 if len(top_10&x) else 0)\n",
    "test_df['have_top_10'] = test_df['set_unique_sites'].apply(lambda x: 1 if len(top_10&x) else 0)"
   ]
  },
  {
   "cell_type": "code",
   "execution_count": 92,
   "metadata": {},
   "outputs": [
    {
     "name": "stdout",
     "output_type": "stream",
     "text": [
      "K Fold: 1\n",
      "roc_auc_score = 0.9212377677830123\n",
      "K Fold: 2\n",
      "roc_auc_score = 0.8959812054088582\n",
      "K Fold: 3\n",
      "roc_auc_score = 0.9576495482643842\n",
      "K Fold: 4\n",
      "roc_auc_score = 0.9641425400719145\n",
      "K Fold: 5\n",
      "roc_auc_score = 0.9780299344926551\n",
      "Mean roc_auc_score = 0.9434081992041647\n"
     ]
    }
   ],
   "source": [
    "st = StandardScaler()\n",
    "time_of_session_train = st.fit_transform(tmp_time['time_of_session'].values.reshape(-1, 1))\n",
    "time_of_session_test = st.transform(tmp_time_test['time_of_session'].values.reshape(-1, 1))\n",
    "\n",
    "have_top_10_train = train_df['have_top_10'].values.reshape(-1, 1)\n",
    "have_top_10_test = test_df['have_top_10'].values.reshape(-1, 1)\n",
    "\n",
    "tscv = TimeSeriesSplit(n_splits=5)\n",
    "\n",
    "X_for_tscv = hstack((X_sites_tfidf, X_domens_tfidf, time_of_session_train, have_top_10_train))\n",
    "i = 1\n",
    "\n",
    "scores = []\n",
    "\n",
    "for train_index, test_index in tscv.split(X_for_tscv):\n",
    "#     print(\"TRAIN:\", train_index, \"TEST:\", test_index)\n",
    "    \n",
    "    X_train = hstack((X_for_tscv.tocsr()[train_index,:], \n",
    "                     coo_matrix(train_df.iloc[train_index].time1.apply(lambda x: pd.to_datetime(x).dayofweek)).T))\n",
    "    morning, day, evening, night = define_part_of_day(train_df.iloc[train_index])\n",
    "    X_train = hstack([X_train, morning.values.reshape(-1, 1), \n",
    "                               day.values.reshape(-1, 1), \n",
    "                               evening.values.reshape(-1, 1), \n",
    "                               night.values.reshape(-1, 1)])\n",
    "    \n",
    "    X_test = hstack((X_for_tscv.tocsr()[test_index,:], \n",
    "                     coo_matrix(train_df.iloc[test_index].time1.apply(lambda x: pd.to_datetime(x).dayofweek)).T))\n",
    "    morning, day, evening, night = define_part_of_day(train_df.iloc[test_index])\n",
    "    X_test = hstack([X_test, morning.values.reshape(-1, 1), \n",
    "                               day.values.reshape(-1, 1), \n",
    "                               evening.values.reshape(-1, 1), \n",
    "                               night.values.reshape(-1, 1)])\n",
    "    \n",
    "    y_train, y_test = y.iloc[train_index], y.iloc[test_index]\n",
    "    \n",
    "    \n",
    "    \n",
    "    roc_auc_score = get_auc_lr_valid_with_params(X_train, X_test, y_train, y_test,\n",
    "                                                 C=logit_grid_searcher.best_params_['C'], \n",
    "                                                 solver=logit_grid_searcher.best_params_['solver'])\n",
    "    print(f\"K Fold: {i}\")\n",
    "    print(f\"roc_auc_score = {roc_auc_score}\")\n",
    "    scores.append(roc_auc_score)\n",
    "    i += 1\n",
    "print(f\"Mean roc_auc_score = {np.mean(scores)}\")"
   ]
  },
  {
   "cell_type": "code",
   "execution_count": 93,
   "metadata": {},
   "outputs": [
    {
     "name": "stdout",
     "output_type": "stream",
     "text": [
      "CPU times: user 51.9 s, sys: 1.71 s, total: 53.6 s\n",
      "Wall time: 33.1 s\n"
     ]
    },
    {
     "data": {
      "text/plain": [
       "'Done!'"
      ]
     },
     "execution_count": 93,
     "metadata": {},
     "output_type": "execute_result"
    }
   ],
   "source": [
    "%%time\n",
    "\n",
    "n_ngram = 3\n",
    "\n",
    "# domens\n",
    "tfidf_domen = TfidfVectorizer(ngram_range=(1, n_ngram))\n",
    "X_domens_tfidf = tfidf_domen.fit_transform(X_domens)\n",
    "test_domens_tfidf = tfidf_domen.transform(test_domens)\n",
    "\n",
    "# sites\n",
    "tfidf = TfidfVectorizer(ngram_range=(1, n_ngram), max_features=50000)\n",
    "X_sites_tfidf = tfidf.fit_transform(X_sites)\n",
    "test_sites_tfidf = tfidf.transform(test_sites)\n",
    "\n",
    "#mean time of session\n",
    "st = StandardScaler()\n",
    "time_of_session_train = st.fit_transform(tmp_time['time_of_session'].values.reshape(-1, 1))\n",
    "time_of_session_test = st.transform(tmp_time_test['time_of_session'].values.reshape(-1, 1))\n",
    "\n",
    "#number unique sites for session\n",
    "st = StandardScaler()\n",
    "unique_sites_train = st.fit_transform(train_df['unique_sites'].values.reshape(-1, 1))\n",
    "unique_sites_test = st.transform(test_df['unique_sites'].values.reshape(-1, 1))\n",
    "\n",
    "# has session any of top-10 popular site or not\n",
    "have_top_10_train = train_df['have_top_10'].values.reshape(-1, 1)\n",
    "have_top_10_test = test_df['have_top_10'].values.reshape(-1, 1)\n",
    "\n",
    "X_train_tmp = hstack((X_sites_tfidf, X_domens_tfidf, time_of_session_train, have_top_10_train))\n",
    "X_train_tmp = hstack((X_train_tmp, coo_matrix(train_df.time1.apply(lambda x: pd.to_datetime(x).dayofweek)).T))\n",
    "morning, day, evening, night = define_part_of_day(train_df)\n",
    "X_train_tmp = hstack([X_train_tmp, morning.values.reshape(-1, 1), \n",
    "                                   day.values.reshape(-1, 1), \n",
    "                                   evening.values.reshape(-1, 1), \n",
    "                                   night.values.reshape(-1, 1)])\n",
    "\n",
    "X_test_tmp = hstack((test_sites_tfidf, test_domens_tfidf, time_of_session_test, have_top_10_test))\n",
    "X_test_tmp = hstack((X_test_tmp, coo_matrix(test_df.time1.apply(lambda x: pd.to_datetime(x).dayofweek)).T))\n",
    "morning, day, evening, night = define_part_of_day(test_df)\n",
    "X_test_tmp = hstack([X_test_tmp, morning.values.reshape(-1, 1), \n",
    "                                   day.values.reshape(-1, 1), \n",
    "                                   evening.values.reshape(-1, 1), \n",
    "                                   night.values.reshape(-1, 1)])\n",
    "\n",
    "get_auc_lr_valid_with_params(X_train_tmp,\n",
    "                 X_test_tmp,\n",
    "                 y, \n",
    "                 C=logit_grid_searcher.best_params_['C'], solver=logit_grid_searcher.best_params_['solver'],\n",
    "                 for_test=True, out_file='predictions.csv')"
   ]
  },
  {
   "cell_type": "markdown",
   "metadata": {},
   "source": [
    "### Количество ненулевых сайтов в каждой сессии"
   ]
  },
  {
   "cell_type": "code",
   "execution_count": 97,
   "metadata": {},
   "outputs": [
    {
     "data": {
      "image/png": "[encoded data removed]",
      "text/plain": [
       "<Figure size 1080x432 with 2 Axes>"
      ]
     },
     "metadata": {},
     "output_type": "display_data"
    }
   ],
   "source": [
    "fig, ax = plt.subplots(1, 2, figsize=(15,6))\n",
    "\n",
    "ax[0].hist(tmp_time.loc[train_df[train_df.target==1].index, 'num_notnull'], bins=10)\n",
    "ax[1].hist(tmp_time.loc[train_df[train_df.target==0].index, 'num_notnull'], bins=10)\n",
    "\n",
    "ax[0].set_title('Количество ненулевых сайтов в каждой сессии Alice')\n",
    "ax[1].set_title('Количество ненулевых сайтов в каждой сессии пользователей')\n",
    "\n",
    "ax[0].set_xlabel('num notnull sessions')\n",
    "ax[1].set_xlabel('num notnull sessions')\n",
    "\n",
    "plt.show()"
   ]
  },
  {
   "cell_type": "code",
   "execution_count": 98,
   "metadata": {},
   "outputs": [
    {
     "name": "stdout",
     "output_type": "stream",
     "text": [
      "K Fold: 1\n",
      "roc_auc_score = 0.921600337359596\n",
      "K Fold: 2\n",
      "roc_auc_score = 0.8963489557959011\n",
      "K Fold: 3\n",
      "roc_auc_score = 0.9572452448882548\n",
      "K Fold: 4\n",
      "roc_auc_score = 0.9638317898840085\n",
      "K Fold: 5\n",
      "roc_auc_score = 0.9783869133790888\n",
      "Mean roc_auc_score = 0.9434826482613697\n"
     ]
    }
   ],
   "source": [
    "st = StandardScaler()\n",
    "time_of_session_train = st.fit_transform(tmp_time['time_of_session'].values.reshape(-1, 1))\n",
    "time_of_session_test = st.transform(tmp_time_test['time_of_session'].values.reshape(-1, 1))\n",
    "\n",
    "st = StandardScaler()\n",
    "num_notnull_train = st.fit_transform(tmp_time['num_notnull'].values.reshape(-1, 1))\n",
    "num_notnull_test = st.transform(tmp_time_test['num_notnull'].values.reshape(-1, 1))\n",
    "\n",
    "tscv = TimeSeriesSplit(n_splits=5)\n",
    "\n",
    "X_for_tscv = hstack((X_sites_tfidf, X_domens_tfidf, time_of_session_train, num_notnull_train))\n",
    "i = 1\n",
    "\n",
    "scores = []\n",
    "\n",
    "for train_index, test_index in tscv.split(X_for_tscv):\n",
    "#     print(\"TRAIN:\", train_index, \"TEST:\", test_index)\n",
    "    \n",
    "    X_train = hstack((X_for_tscv.tocsr()[train_index,:], \n",
    "                     coo_matrix(train_df.iloc[train_index].time1.apply(lambda x: pd.to_datetime(x).dayofweek)).T))\n",
    "    morning, day, evening, night = define_part_of_day(train_df.iloc[train_index])\n",
    "    X_train = hstack([X_train, morning.values.reshape(-1, 1), \n",
    "                               day.values.reshape(-1, 1), \n",
    "                               evening.values.reshape(-1, 1), \n",
    "                               night.values.reshape(-1, 1)])\n",
    "    \n",
    "    X_test = hstack((X_for_tscv.tocsr()[test_index,:], \n",
    "                     coo_matrix(train_df.iloc[test_index].time1.apply(lambda x: pd.to_datetime(x).dayofweek)).T))\n",
    "    morning, day, evening, night = define_part_of_day(train_df.iloc[test_index])\n",
    "    X_test = hstack([X_test, morning.values.reshape(-1, 1), \n",
    "                               day.values.reshape(-1, 1), \n",
    "                               evening.values.reshape(-1, 1), \n",
    "                               night.values.reshape(-1, 1)])\n",
    "    \n",
    "    y_train, y_test = y.iloc[train_index], y.iloc[test_index]\n",
    "    \n",
    "    \n",
    "    \n",
    "    roc_auc_score = get_auc_lr_valid_with_params(X_train, X_test, y_train, y_test,\n",
    "                                                 C=logit_grid_searcher.best_params_['C'], \n",
    "                                                 solver=logit_grid_searcher.best_params_['solver'])\n",
    "    print(f\"K Fold: {i}\")\n",
    "    print(f\"roc_auc_score = {roc_auc_score}\")\n",
    "    scores.append(roc_auc_score)\n",
    "    i += 1\n",
    "print(f\"Mean roc_auc_score = {np.mean(scores)}\")"
   ]
  },
  {
   "cell_type": "code",
   "execution_count": 99,
   "metadata": {},
   "outputs": [
    {
     "name": "stdout",
     "output_type": "stream",
     "text": [
      "CPU times: user 41.1 s, sys: 1.12 s, total: 42.2 s\n",
      "Wall time: 27 s\n"
     ]
    },
    {
     "data": {
      "text/plain": [
       "'Done!'"
      ]
     },
     "execution_count": 99,
     "metadata": {},
     "output_type": "execute_result"
    }
   ],
   "source": [
    "%%time\n",
    "\n",
    "n_ngram = 3\n",
    "\n",
    "# domens\n",
    "tfidf_domen = TfidfVectorizer(ngram_range=(1, n_ngram))\n",
    "X_domens_tfidf = tfidf_domen.fit_transform(X_domens)\n",
    "test_domens_tfidf = tfidf_domen.transform(test_domens)\n",
    "\n",
    "# sites\n",
    "tfidf = TfidfVectorizer(ngram_range=(1, n_ngram), max_features=50000)\n",
    "X_sites_tfidf = tfidf.fit_transform(X_sites)\n",
    "test_sites_tfidf = tfidf.transform(test_sites)\n",
    "\n",
    "#mean time of session\n",
    "st = StandardScaler()\n",
    "time_of_session_train = st.fit_transform(tmp_time['time_of_session'].values.reshape(-1, 1))\n",
    "time_of_session_test = st.transform(tmp_time_test['time_of_session'].values.reshape(-1, 1))\n",
    "\n",
    "#number unique sites for session\n",
    "st = StandardScaler()\n",
    "unique_sites_train = st.fit_transform(train_df['unique_sites'].values.reshape(-1, 1))\n",
    "unique_sites_test = st.transform(test_df['unique_sites'].values.reshape(-1, 1))\n",
    "\n",
    "# has session any of top-10 popular site or not\n",
    "have_top_10_train = train_df['have_top_10'].values.reshape(-1, 1)\n",
    "have_top_10_test = test_df['have_top_10'].values.reshape(-1, 1)\n",
    "\n",
    "# num notnull sites in session\n",
    "st = StandardScaler()\n",
    "num_notnull_train = st.fit_transform(tmp_time['num_notnull'].values.reshape(-1, 1))\n",
    "num_notnull_test = st.transform(tmp_time_test['num_notnull'].values.reshape(-1, 1))\n",
    "\n",
    "X_train_tmp = hstack((X_sites_tfidf, X_domens_tfidf, time_of_session_train, num_notnull_train))\n",
    "X_train_tmp = hstack((X_train_tmp, coo_matrix(train_df.time1.apply(lambda x: pd.to_datetime(x).dayofweek)).T))\n",
    "morning, day, evening, night = define_part_of_day(train_df)\n",
    "X_train_tmp = hstack([X_train_tmp, morning.values.reshape(-1, 1), \n",
    "                                   day.values.reshape(-1, 1), \n",
    "                                   evening.values.reshape(-1, 1), \n",
    "                                   night.values.reshape(-1, 1)])\n",
    "\n",
    "X_test_tmp = hstack((test_sites_tfidf, test_domens_tfidf, time_of_session_test, num_notnull_test))\n",
    "X_test_tmp = hstack((X_test_tmp, coo_matrix(test_df.time1.apply(lambda x: pd.to_datetime(x).dayofweek)).T))\n",
    "morning, day, evening, night = define_part_of_day(test_df)\n",
    "X_test_tmp = hstack([X_test_tmp, morning.values.reshape(-1, 1), \n",
    "                                   day.values.reshape(-1, 1), \n",
    "                                   evening.values.reshape(-1, 1), \n",
    "                                   night.values.reshape(-1, 1)])\n",
    "\n",
    "get_auc_lr_valid_with_params(X_train_tmp,\n",
    "                 X_test_tmp,\n",
    "                 y, \n",
    "                 C=logit_grid_searcher.best_params_['C'], solver=logit_grid_searcher.best_params_['solver'],\n",
    "                 for_test=True, out_file='predictions.csv')"
   ]
  },
  {
   "cell_type": "code",
   "execution_count": 43,
   "metadata": {},
   "outputs": [],
   "source": [
    "gs_params1 = {'C': 3.359818286283781, 'solver': 'liblinear'}"
   ]
  },
  {
   "cell_type": "code",
   "execution_count": 44,
   "metadata": {},
   "outputs": [
    {
     "name": "stdout",
     "output_type": "stream",
     "text": [
      "K Fold: 1\n",
      "roc_auc_score = 0.921600337359596\n",
      "K Fold: 2\n",
      "roc_auc_score = 0.8963489557959011\n",
      "K Fold: 3\n",
      "roc_auc_score = 0.9572452448882548\n",
      "K Fold: 4\n",
      "roc_auc_score = 0.9638317898840085\n",
      "K Fold: 5\n",
      "roc_auc_score = 0.9783869133790888\n",
      "Mean roc_auc_score = 0.9434826482613697\n"
     ]
    }
   ],
   "source": [
    "st = StandardScaler()\n",
    "time_of_session_train = st.fit_transform(tmp_time['time_of_session'].values.reshape(-1, 1))\n",
    "time_of_session_test = st.transform(tmp_time_test['time_of_session'].values.reshape(-1, 1))\n",
    "\n",
    "st = StandardScaler()\n",
    "num_notnull_train = st.fit_transform(tmp_time['num_notnull'].values.reshape(-1, 1))\n",
    "num_notnull_test = st.transform(tmp_time_test['num_notnull'].values.reshape(-1, 1))\n",
    "\n",
    "tscv = TimeSeriesSplit(n_splits=5)\n",
    "\n",
    "X_for_tscv = hstack((X_sites_tfidf, X_domens_tfidf, time_of_session_train, num_notnull_train))\n",
    "i = 1\n",
    "\n",
    "scores = []\n",
    "\n",
    "for train_index, test_index in tscv.split(X_for_tscv):\n",
    "#     print(\"TRAIN:\", train_index, \"TEST:\", test_index)\n",
    "    \n",
    "    X_train = hstack((X_for_tscv.tocsr()[train_index,:], \n",
    "                     coo_matrix(train_df.iloc[train_index].time1.apply(lambda x: pd.to_datetime(x).dayofweek)).T))\n",
    "    morning, day, evening, night = define_part_of_day(train_df.iloc[train_index])\n",
    "    X_train = hstack([X_train, morning.values.reshape(-1, 1), \n",
    "                               day.values.reshape(-1, 1), \n",
    "                               evening.values.reshape(-1, 1), \n",
    "                               night.values.reshape(-1, 1)])\n",
    "    \n",
    "    X_test = hstack((X_for_tscv.tocsr()[test_index,:], \n",
    "                     coo_matrix(train_df.iloc[test_index].time1.apply(lambda x: pd.to_datetime(x).dayofweek)).T))\n",
    "    morning, day, evening, night = define_part_of_day(train_df.iloc[test_index])\n",
    "    X_test = hstack([X_test, morning.values.reshape(-1, 1), \n",
    "                               day.values.reshape(-1, 1), \n",
    "                               evening.values.reshape(-1, 1), \n",
    "                               night.values.reshape(-1, 1)])\n",
    "    \n",
    "    y_train, y_test = y.iloc[train_index], y.iloc[test_index]\n",
    "    \n",
    "    \n",
    "    \n",
    "    roc_auc_score = get_auc_lr_valid_with_params(X_train, X_test, y_train, y_test,\n",
    "                                                 C=gs_params1['C'], \n",
    "                                                 solver=gs_params1['solver'])\n",
    "#                                                  C=logit_grid_searcher_new.best_params_['C'], \n",
    "#                                                  solver=logit_grid_searcher_new.best_params_['solver'])\n",
    "    print(f\"K Fold: {i}\")\n",
    "    print(f\"roc_auc_score = {roc_auc_score}\")\n",
    "    scores.append(roc_auc_score)\n",
    "    i += 1\n",
    "print(f\"Mean roc_auc_score = {np.mean(scores)}\")"
   ]
  },
  {
   "cell_type": "markdown",
   "metadata": {},
   "source": [
    "### Время, проведенное на сайтах, в течение сессии"
   ]
  },
  {
   "cell_type": "code",
   "execution_count": 101,
   "metadata": {},
   "outputs": [
    {
     "name": "stdout",
     "output_type": "stream",
     "text": [
      "CPU times: user 2min 17s, sys: 3.59 s, total: 2min 21s\n",
      "Wall time: 2min 22s\n"
     ]
    }
   ],
   "source": [
    "%%time\n",
    "\n",
    "for i in range(1, 10):\n",
    "    tmp_time[f\"time_diff{i}\"] = tmp_time.apply(lambda x: (x[i]-x[i-1]).seconds, axis=1)"
   ]
  },
  {
   "cell_type": "code",
   "execution_count": 102,
   "metadata": {},
   "outputs": [
    {
     "name": "stdout",
     "output_type": "stream",
     "text": [
      "CPU times: user 47.9 s, sys: 601 ms, total: 48.5 s\n",
      "Wall time: 48.8 s\n"
     ]
    }
   ],
   "source": [
    "%%time\n",
    "\n",
    "for i in range(1, 10):\n",
    "    tmp_time_test[f\"time_diff{i}\"] = tmp_time_test.apply(lambda x: (x[i]-x[i-1]).seconds, axis=1)"
   ]
  },
  {
   "cell_type": "code",
   "execution_count": 105,
   "metadata": {},
   "outputs": [
    {
     "name": "stdout",
     "output_type": "stream",
     "text": [
      "K Fold: 1\n",
      "roc_auc_score = 0.9197736289597207\n",
      "K Fold: 2\n",
      "roc_auc_score = 0.896232204142172\n",
      "K Fold: 3\n",
      "roc_auc_score = 0.9580499286733237\n",
      "K Fold: 4\n",
      "roc_auc_score = 0.96424458379683\n",
      "K Fold: 5\n",
      "roc_auc_score = 0.9776295054615503\n",
      "Mean roc_auc_score = 0.9431859702067193\n"
     ]
    }
   ],
   "source": [
    "st = StandardScaler()\n",
    "time_of_session_train = st.fit_transform(tmp_time['time_of_session'].values.reshape(-1, 1))\n",
    "time_of_session_test = st.transform(tmp_time_test['time_of_session'].values.reshape(-1, 1))\n",
    "\n",
    "st = StandardScaler()\n",
    "num_notnull_train = st.fit_transform(tmp_time['num_notnull'].values.reshape(-1, 1))\n",
    "num_notnull_test = st.transform(tmp_time_test['num_notnull'].values.reshape(-1, 1))\n",
    "\n",
    "time_diffs = [f\"time_diff{i}\" for i in range (1, 10)]\n",
    "st = StandardScaler()\n",
    "time_diffs_train = st.fit_transform(tmp_time[time_diffs].values)\n",
    "time_diffs_test = st.transform(tmp_time_test[time_diffs].values)\n",
    "\n",
    "tscv = TimeSeriesSplit(n_splits=5)\n",
    "\n",
    "X_for_tscv = hstack((X_sites_tfidf, X_domens_tfidf, time_of_session_train, time_diffs_train))\n",
    "i = 1\n",
    "\n",
    "scores = []\n",
    "\n",
    "for train_index, test_index in tscv.split(X_for_tscv):\n",
    "#     print(\"TRAIN:\", train_index, \"TEST:\", test_index)\n",
    "    \n",
    "    X_train = hstack((X_for_tscv.tocsr()[train_index,:], \n",
    "                     coo_matrix(train_df.iloc[train_index].time1.apply(lambda x: pd.to_datetime(x).dayofweek)).T))\n",
    "    morning, day, evening, night = define_part_of_day(train_df.iloc[train_index])\n",
    "    X_train = hstack([X_train, morning.values.reshape(-1, 1), \n",
    "                               day.values.reshape(-1, 1), \n",
    "                               evening.values.reshape(-1, 1), \n",
    "                               night.values.reshape(-1, 1)])\n",
    "    \n",
    "    X_test = hstack((X_for_tscv.tocsr()[test_index,:], \n",
    "                     coo_matrix(train_df.iloc[test_index].time1.apply(lambda x: pd.to_datetime(x).dayofweek)).T))\n",
    "    morning, day, evening, night = define_part_of_day(train_df.iloc[test_index])\n",
    "    X_test = hstack([X_test, morning.values.reshape(-1, 1), \n",
    "                               day.values.reshape(-1, 1), \n",
    "                               evening.values.reshape(-1, 1), \n",
    "                               night.values.reshape(-1, 1)])\n",
    "    \n",
    "    y_train, y_test = y.iloc[train_index], y.iloc[test_index]\n",
    "    \n",
    "    \n",
    "    \n",
    "    roc_auc_score = get_auc_lr_valid_with_params(X_train, X_test, y_train, y_test,\n",
    "                                                 C=logit_grid_searcher.best_params_['C'], \n",
    "                                                 solver=logit_grid_searcher.best_params_['solver'])\n",
    "    print(f\"K Fold: {i}\")\n",
    "    print(f\"roc_auc_score = {roc_auc_score}\")\n",
    "    scores.append(roc_auc_score)\n",
    "    i += 1\n",
    "print(f\"Mean roc_auc_score = {np.mean(scores)}\")"
   ]
  },
  {
   "cell_type": "code",
   "execution_count": 107,
   "metadata": {},
   "outputs": [
    {
     "name": "stdout",
     "output_type": "stream",
     "text": [
      "K Fold: 1\n",
      "roc_auc_score = 0.9464854349171243\n",
      "K Fold: 2\n",
      "roc_auc_score = 0.8408945186051295\n",
      "K Fold: 3\n",
      "roc_auc_score = 0.960860912981455\n",
      "K Fold: 4\n",
      "roc_auc_score = 0.9648560560519678\n",
      "K Fold: 5\n",
      "roc_auc_score = 0.9783376021537519\n",
      "Mean roc_auc_score = 0.9382869049418856\n"
     ]
    }
   ],
   "source": [
    "st = StandardScaler()\n",
    "time_of_session_train = st.fit_transform(tmp_time['time_of_session'].values.reshape(-1, 1))\n",
    "time_of_session_test = st.transform(tmp_time_test['time_of_session'].values.reshape(-1, 1))\n",
    "\n",
    "st = StandardScaler()\n",
    "num_notnull_train = st.fit_transform(tmp_time['num_notnull'].values.reshape(-1, 1))\n",
    "num_notnull_test = st.transform(tmp_time_test['num_notnull'].values.reshape(-1, 1))\n",
    "\n",
    "time_diffs = [f\"time_diff{i}\" for i in range (1, 10)]\n",
    "st = StandardScaler()\n",
    "time_diffs_train = st.fit_transform(tmp_time[time_diffs].values)\n",
    "time_diffs_test = st.transform(tmp_time_test[time_diffs].values)\n",
    "\n",
    "tscv = TimeSeriesSplit(n_splits=5)\n",
    "\n",
    "X_for_tscv = hstack((X_sites_tfidf, X_domens_tfidf, time_of_session_train, time_diffs_train))\n",
    "i = 1\n",
    "\n",
    "scores = []\n",
    "\n",
    "for train_index, test_index in tscv.split(X_for_tscv):\n",
    "#     print(\"TRAIN:\", train_index, \"TEST:\", test_index)\n",
    "    \n",
    "    # закодируем день недели с помощью get_dummies\n",
    "    X_train = hstack((X_for_tscv.tocsr()[train_index,:], \n",
    "        coo_matrix(pd.get_dummies(train_df.iloc[train_index].time1.apply(lambda x: pd.to_datetime(x).dayofweek)).values)))\n",
    "    morning, day, evening, night = define_part_of_day(train_df.iloc[train_index])\n",
    "    X_train = hstack([X_train, morning.values.reshape(-1, 1), \n",
    "                               day.values.reshape(-1, 1), \n",
    "                               evening.values.reshape(-1, 1), \n",
    "                               night.values.reshape(-1, 1)])\n",
    "    \n",
    "    X_test = hstack((X_for_tscv.tocsr()[test_index,:], \n",
    "        coo_matrix(pd.get_dummies(train_df.iloc[test_index].time1.apply(lambda x: pd.to_datetime(x).dayofweek)).values)))\n",
    "    morning, day, evening, night = define_part_of_day(train_df.iloc[test_index])\n",
    "    X_test = hstack([X_test, morning.values.reshape(-1, 1), \n",
    "                               day.values.reshape(-1, 1), \n",
    "                               evening.values.reshape(-1, 1), \n",
    "                               night.values.reshape(-1, 1)])\n",
    "    \n",
    "    y_train, y_test = y.iloc[train_index], y.iloc[test_index]\n",
    "    \n",
    "    \n",
    "    \n",
    "    roc_auc_score = get_auc_lr_valid_with_params(X_train, X_test, y_train, y_test,\n",
    "                                                 C=logit_grid_searcher.best_params_['C'], \n",
    "                                                 solver=logit_grid_searcher.best_params_['solver'])\n",
    "    print(f\"K Fold: {i}\")\n",
    "    print(f\"roc_auc_score = {roc_auc_score}\")\n",
    "    scores.append(roc_auc_score)\n",
    "    i += 1\n",
    "print(f\"Mean roc_auc_score = {np.mean(scores)}\")"
   ]
  },
  {
   "cell_type": "code",
   "execution_count": 108,
   "metadata": {},
   "outputs": [
    {
     "name": "stdout",
     "output_type": "stream",
     "text": [
      "CPU times: user 1min 27s, sys: 2.41 s, total: 1min 29s\n",
      "Wall time: 41.1 s\n"
     ]
    },
    {
     "data": {
      "text/plain": [
       "'Done!'"
      ]
     },
     "execution_count": 108,
     "metadata": {},
     "output_type": "execute_result"
    }
   ],
   "source": [
    "%%time\n",
    "\n",
    "n_ngram = 3\n",
    "\n",
    "# domens\n",
    "tfidf_domen = TfidfVectorizer(ngram_range=(1, n_ngram))\n",
    "X_domens_tfidf = tfidf_domen.fit_transform(X_domens)\n",
    "test_domens_tfidf = tfidf_domen.transform(test_domens)\n",
    "\n",
    "# sites\n",
    "tfidf = TfidfVectorizer(ngram_range=(1, n_ngram), max_features=50000)\n",
    "X_sites_tfidf = tfidf.fit_transform(X_sites)\n",
    "test_sites_tfidf = tfidf.transform(test_sites)\n",
    "\n",
    "#mean time of session\n",
    "st = StandardScaler()\n",
    "time_of_session_train = st.fit_transform(tmp_time['time_of_session'].values.reshape(-1, 1))\n",
    "time_of_session_test = st.transform(tmp_time_test['time_of_session'].values.reshape(-1, 1))\n",
    "\n",
    "# #number unique sites for session\n",
    "# st = StandardScaler()\n",
    "# unique_sites_train = st.fit_transform(train_df['unique_sites'].values.reshape(-1, 1))\n",
    "# unique_sites_test = st.transform(test_df['unique_sites'].values.reshape(-1, 1))\n",
    "\n",
    "# # has session any of top-10 popular site or not\n",
    "# have_top_10_train = train_df['have_top_10'].values.reshape(-1, 1)\n",
    "# have_top_10_test = test_df['have_top_10'].values.reshape(-1, 1)\n",
    "\n",
    "# num notnull sites in session\n",
    "st = StandardScaler()\n",
    "num_notnull_train = st.fit_transform(tmp_time['num_notnull'].values.reshape(-1, 1))\n",
    "num_notnull_test = st.transform(tmp_time_test['num_notnull'].values.reshape(-1, 1))\n",
    "\n",
    "# time_diffs within session\n",
    "time_diffs = [f\"time_diff{i}\" for i in range (1, 10)]\n",
    "st = StandardScaler()\n",
    "time_diffs_train = st.fit_transform(tmp_time[time_diffs].values)\n",
    "time_diffs_test = st.transform(tmp_time_test[time_diffs].values)\n",
    "\n",
    "X_train_tmp = hstack((X_sites_tfidf, X_domens_tfidf, time_of_session_train, time_diffs_train))\n",
    "X_train_tmp = hstack((X_train_tmp, coo_matrix(train_df.time1.apply(lambda x: pd.to_datetime(x).dayofweek)).T))\n",
    "morning, day, evening, night = define_part_of_day(train_df)\n",
    "X_train_tmp = hstack([X_train_tmp, morning.values.reshape(-1, 1), \n",
    "                                   day.values.reshape(-1, 1), \n",
    "                                   evening.values.reshape(-1, 1), \n",
    "                                   night.values.reshape(-1, 1)])\n",
    "\n",
    "X_test_tmp = hstack((test_sites_tfidf, test_domens_tfidf, time_of_session_test, time_diffs_test))\n",
    "X_test_tmp = hstack((X_test_tmp, coo_matrix(test_df.time1.apply(lambda x: pd.to_datetime(x).dayofweek)).T))\n",
    "morning, day, evening, night = define_part_of_day(test_df)\n",
    "X_test_tmp = hstack([X_test_tmp, morning.values.reshape(-1, 1), \n",
    "                                   day.values.reshape(-1, 1), \n",
    "                                   evening.values.reshape(-1, 1), \n",
    "                                   night.values.reshape(-1, 1)])\n",
    "\n",
    "get_auc_lr_valid_with_params(X_train_tmp,\n",
    "                 X_test_tmp,\n",
    "                 y, \n",
    "                 C=logit_grid_searcher.best_params_['C'], solver=logit_grid_searcher.best_params_['solver'],\n",
    "                 for_test=True, out_file='predictions.csv')"
   ]
  },
  {
   "cell_type": "markdown",
   "metadata": {},
   "source": [
    "### Любимый день Алисы"
   ]
  },
  {
   "cell_type": "code",
   "execution_count": 109,
   "metadata": {},
   "outputs": [
    {
     "data": {
      "image/png": "[encoded data removed]",
      "text/plain": [
       "<Figure size 432x288 with 1 Axes>"
      ]
     },
     "metadata": {},
     "output_type": "display_data"
    }
   ],
   "source": [
    "plt.hist(train_df[train_df['target'] == 1].apply(lambda x: pd.to_datetime(x.time1).dayofweek, axis=1), \n",
    "           bins=5, rwidth=0.9)\n",
    "\n",
    "plt.xticks(ticks=[i - 0.7 for i in np.linspace(1,6,7)], labels=['Mon','Tue','Wed','Thu','Fri','Sat','Sun'])\n",
    "plt.title('Посещение вебсайтов Alice по дням недели')\n",
    "\n",
    "plt.show()"
   ]
  },
  {
   "cell_type": "code",
   "execution_count": 110,
   "metadata": {},
   "outputs": [
    {
     "name": "stdout",
     "output_type": "stream",
     "text": [
      "K Fold: 1\n",
      "roc_auc_score = 0.9465076034569496\n",
      "K Fold: 2\n",
      "roc_auc_score = 0.840913832862386\n",
      "K Fold: 3\n",
      "roc_auc_score = 0.9608796956728484\n",
      "K Fold: 4\n",
      "roc_auc_score = 0.9648621337008609\n",
      "K Fold: 5\n",
      "roc_auc_score = 0.9783401028815026\n",
      "Mean roc_auc_score = 0.9383006737149095\n"
     ]
    }
   ],
   "source": [
    "st = StandardScaler()\n",
    "time_of_session_train = st.fit_transform(tmp_time['time_of_session'].values.reshape(-1, 1))\n",
    "time_of_session_test = st.transform(tmp_time_test['time_of_session'].values.reshape(-1, 1))\n",
    "\n",
    "st = StandardScaler()\n",
    "num_notnull_train = st.fit_transform(tmp_time['num_notnull'].values.reshape(-1, 1))\n",
    "num_notnull_test = st.transform(tmp_time_test['num_notnull'].values.reshape(-1, 1))\n",
    "\n",
    "time_diffs = [f\"time_diff{i}\" for i in range (1, 10)]\n",
    "st = StandardScaler()\n",
    "time_diffs_train = st.fit_transform(tmp_time[time_diffs].values)\n",
    "time_diffs_test = st.transform(tmp_time_test[time_diffs].values)\n",
    "\n",
    "tscv = TimeSeriesSplit(n_splits=5)\n",
    "\n",
    "X_for_tscv = hstack((X_sites_tfidf, X_domens_tfidf, time_of_session_train, time_diffs_train))\n",
    "i = 1\n",
    "\n",
    "scores = []\n",
    "\n",
    "for train_index, test_index in tscv.split(X_for_tscv):\n",
    "#     print(\"TRAIN:\", train_index, \"TEST:\", test_index)\n",
    "    \n",
    "    X_train = hstack((X_for_tscv.tocsr()[train_index,:], \n",
    "        coo_matrix(pd.get_dummies(train_df.iloc[train_index].time1.apply(lambda x: pd.to_datetime(x).dayofweek)).values)))\n",
    "    X_train = hstack((X_train, \n",
    "                     coo_matrix(train_df.iloc[train_index].time1.apply(lambda x: \n",
    "                                                            pd.to_datetime(x).dayofweek in [0]).astype(int)).T))\n",
    "    morning, day, evening, night = define_part_of_day(train_df.iloc[train_index])\n",
    "    X_train = hstack([X_train, morning.values.reshape(-1, 1), \n",
    "                               day.values.reshape(-1, 1), \n",
    "                               evening.values.reshape(-1, 1), \n",
    "                               night.values.reshape(-1, 1)])\n",
    "    \n",
    "    X_test = hstack((X_for_tscv.tocsr()[test_index,:], \n",
    "        coo_matrix(pd.get_dummies(train_df.iloc[test_index].time1.apply(lambda x: pd.to_datetime(x).dayofweek)).values)))\n",
    "    X_test = hstack((X_test, \n",
    "                     coo_matrix(train_df.iloc[test_index].time1.apply(lambda x: \n",
    "                                                            pd.to_datetime(x).dayofweek in [0]).astype(int)).T))\n",
    "    morning, day, evening, night = define_part_of_day(train_df.iloc[test_index])\n",
    "    X_test = hstack([X_test, morning.values.reshape(-1, 1), \n",
    "                               day.values.reshape(-1, 1), \n",
    "                               evening.values.reshape(-1, 1), \n",
    "                               night.values.reshape(-1, 1)])\n",
    "    \n",
    "    y_train, y_test = y.iloc[train_index], y.iloc[test_index]\n",
    "    \n",
    "    \n",
    "    \n",
    "    roc_auc_score = get_auc_lr_valid_with_params(X_train, X_test, y_train, y_test,\n",
    "                                                 C=logit_grid_searcher.best_params_['C'], \n",
    "                                                 solver=logit_grid_searcher.best_params_['solver'])\n",
    "    print(f\"K Fold: {i}\")\n",
    "    print(f\"roc_auc_score = {roc_auc_score}\")\n",
    "    scores.append(roc_auc_score)\n",
    "    i += 1\n",
    "print(f\"Mean roc_auc_score = {np.mean(scores)}\")"
   ]
  },
  {
   "cell_type": "markdown",
   "metadata": {},
   "source": [
    "### Абсолютно уникальные сайты"
   ]
  },
  {
   "cell_type": "code",
   "execution_count": 116,
   "metadata": {},
   "outputs": [
    {
     "data": {
      "text/plain": [
       "session_id\n",
       "27554     None\n",
       "81350     None\n",
       "234665    None\n",
       "97610     None\n",
       "161358    None\n",
       "          ... \n",
       "129606    None\n",
       "53628     None\n",
       "84754     None\n",
       "153398    None\n",
       "11690     None\n",
       "Name: set_unique_sites, Length: 253561, dtype: object"
      ]
     },
     "execution_count": 116,
     "metadata": {},
     "output_type": "execute_result"
    }
   ],
   "source": [
    "from collections import defaultdict\n",
    "\n",
    "unique_sites_dict = defaultdict(int)\n",
    "\n",
    "def get_unique_sites_dict(set_sites):\n",
    "    for site_id in set_sites:\n",
    "        unique_sites_dict[site_id] += 1\n",
    "\n",
    "train_df['set_unique_sites'].apply(lambda x: get_unique_sites_dict(x))"
   ]
  },
  {
   "cell_type": "code",
   "execution_count": 117,
   "metadata": {},
   "outputs": [
    {
     "data": {
      "text/plain": [
       "(18628, 41602)"
      ]
     },
     "execution_count": 117,
     "metadata": {},
     "output_type": "execute_result"
    }
   ],
   "source": [
    "abs_unique_sites = []\n",
    "\n",
    "for k, v in unique_sites_dict.items():\n",
    "    if v == 1:\n",
    "        abs_unique_sites.append(k)\n",
    "        \n",
    "len(abs_unique_sites), len(unique_sites_dict)"
   ]
  },
  {
   "cell_type": "code",
   "execution_count": 118,
   "metadata": {},
   "outputs": [],
   "source": [
    "abs_unique_sites = set(abs_unique_sites)"
   ]
  },
  {
   "cell_type": "code",
   "execution_count": 119,
   "metadata": {},
   "outputs": [
    {
     "name": "stdout",
     "output_type": "stream",
     "text": [
      "CPU times: user 958 ms, sys: 20.9 ms, total: 979 ms\n",
      "Wall time: 976 ms\n"
     ]
    }
   ],
   "source": [
    "%%time\n",
    "\n",
    "train_df['abs_unique_sites'] = train_df['site1'].apply(lambda x: int(x in abs_unique_sites)) +\\\n",
    "                               train_df['site2'].apply(lambda x: int(x in abs_unique_sites)) +\\\n",
    "                               train_df['site3'].apply(lambda x: int(x in abs_unique_sites)) +\\\n",
    "                               train_df['site4'].apply(lambda x: int(x in abs_unique_sites)) +\\\n",
    "                               train_df['site5'].apply(lambda x: int(x in abs_unique_sites)) +\\\n",
    "                               train_df['site6'].apply(lambda x: int(x in abs_unique_sites)) +\\\n",
    "                               train_df['site7'].apply(lambda x: int(x in abs_unique_sites)) +\\\n",
    "                               train_df['site8'].apply(lambda x: int(x in abs_unique_sites)) +\\\n",
    "                               train_df['site9'].apply(lambda x: int(x in abs_unique_sites)) +\\\n",
    "                               train_df['site10'].apply(lambda x: int(x in abs_unique_sites))\n"
   ]
  },
  {
   "cell_type": "code",
   "execution_count": 120,
   "metadata": {},
   "outputs": [],
   "source": [
    "train_df['abs_unique_sites'] = (train_df['abs_unique_sites'] > 0).astype(int)"
   ]
  },
  {
   "cell_type": "code",
   "execution_count": 122,
   "metadata": {},
   "outputs": [
    {
     "name": "stdout",
     "output_type": "stream",
     "text": [
      "K Fold: 1\n",
      "roc_auc_score = 0.9308163380398179\n",
      "K Fold: 2\n",
      "roc_auc_score = 0.9003829506208928\n",
      "K Fold: 3\n",
      "roc_auc_score = 0.950490727532097\n",
      "K Fold: 4\n",
      "roc_auc_score = 0.9568420682214873\n",
      "K Fold: 5\n",
      "roc_auc_score = 0.9708861367859005\n",
      "Mean roc_auc_score = 0.9418836442400391\n"
     ]
    }
   ],
   "source": [
    "st = StandardScaler()\n",
    "time_of_session_train = st.fit_transform(tmp_time['time_of_session'].values.reshape(-1, 1))\n",
    "time_of_session_test = st.transform(tmp_time_test['time_of_session'].values.reshape(-1, 1))\n",
    "\n",
    "st = StandardScaler()\n",
    "num_notnull_train = st.fit_transform(tmp_time['num_notnull'].values.reshape(-1, 1))\n",
    "num_notnull_test = st.transform(tmp_time_test['num_notnull'].values.reshape(-1, 1))\n",
    "\n",
    "time_diffs = [f\"time_diff{i}\" for i in range (1, 10)]\n",
    "st = StandardScaler()\n",
    "time_diffs_train = st.fit_transform(tmp_time[time_diffs].values)\n",
    "time_diffs_test = st.transform(tmp_time_test[time_diffs].values)\n",
    "\n",
    "tscv = TimeSeriesSplit(n_splits=5)\n",
    "\n",
    "X_for_tscv = hstack((X_sites_tfidf, X_domens_tfidf, time_of_session_train, time_diffs_train,\n",
    "                    train_df['abs_unique_sites'].values.reshape(-1, 1)))\n",
    "i = 1\n",
    "\n",
    "scores = []\n",
    "\n",
    "for train_index, test_index in tscv.split(X_for_tscv):\n",
    "#     print(\"TRAIN:\", train_index, \"TEST:\", test_index)\n",
    "    \n",
    "    X_train = hstack((X_for_tscv.tocsr()[train_index,:], \n",
    "                     coo_matrix(train_df.iloc[train_index].time1.apply(lambda x: pd.to_datetime(x).dayofweek)).T))\n",
    "#     X_train = hstack((X_for_tscv.tocsr()[train_index,:], \n",
    "#         coo_matrix(pd.get_dummies(train_df.iloc[train_index].time1.apply(lambda x: pd.to_datetime(x).dayofweek)).values)))\n",
    "    X_train = hstack((X_train, \n",
    "                      coo_matrix(train_df.iloc[train_index].time1.apply(lambda x: \n",
    "                                                             pd.to_datetime(x).dayofweek in [0]).astype(int)).T))\n",
    "    morning, day, evening, night = define_part_of_day(train_df.iloc[train_index])\n",
    "    X_train = hstack([X_train, morning.values.reshape(-1, 1), \n",
    "                               day.values.reshape(-1, 1), \n",
    "                               evening.values.reshape(-1, 1), \n",
    "                               night.values.reshape(-1, 1)])\n",
    "    \n",
    "    X_test = hstack((X_for_tscv.tocsr()[test_index,:], \n",
    "                     coo_matrix(train_df.iloc[test_index].time1.apply(lambda x: pd.to_datetime(x).dayofweek)).T))\n",
    "#     X_test = hstack((X_for_tscv.tocsr()[test_index,:], \n",
    "#         coo_matrix(pd.get_dummies(train_df.iloc[test_index].time1.apply(lambda x: pd.to_datetime(x).dayofweek)).values)))\n",
    "    X_test = hstack((X_test, \n",
    "                      coo_matrix(train_df.iloc[test_index].time1.apply(lambda x: \n",
    "                                                             pd.to_datetime(x).dayofweek in [0]).astype(int)).T))\n",
    "    morning, day, evening, night = define_part_of_day(train_df.iloc[test_index])\n",
    "    X_test = hstack([X_test, morning.values.reshape(-1, 1), \n",
    "                               day.values.reshape(-1, 1), \n",
    "                               evening.values.reshape(-1, 1), \n",
    "                               night.values.reshape(-1, 1)])\n",
    "    \n",
    "    y_train, y_test = y.iloc[train_index], y.iloc[test_index]\n",
    "    \n",
    "    \n",
    "    \n",
    "    roc_auc_score = get_auc_lr_valid_with_params(X_train, X_test, y_train, y_test,\n",
    "                                                 C=logit_grid_searcher.best_params_['C'], \n",
    "                                                 solver=logit_grid_searcher.best_params_['solver'])\n",
    "    print(f\"K Fold: {i}\")\n",
    "    print(f\"roc_auc_score = {roc_auc_score}\")\n",
    "    scores.append(roc_auc_score)\n",
    "    i += 1\n",
    "print(f\"Mean roc_auc_score = {np.mean(scores)}\")"
   ]
  },
  {
   "cell_type": "code",
   "execution_count": 123,
   "metadata": {},
   "outputs": [
    {
     "data": {
      "text/plain": [
       "(12525, 24070)"
      ]
     },
     "execution_count": 123,
     "metadata": {},
     "output_type": "execute_result"
    }
   ],
   "source": [
    "unique_sites_dict = defaultdict(int)\n",
    "test_df['set_unique_sites'].apply(lambda x: get_unique_sites_dict(x))\n",
    "\n",
    "abs_unique_sites = []\n",
    "\n",
    "for k, v in unique_sites_dict.items():\n",
    "    if v == 1:\n",
    "        abs_unique_sites.append(k)\n",
    "        \n",
    "abs_unique_sites = set(abs_unique_sites)\n",
    "        \n",
    "len(abs_unique_sites), len(unique_sites_dict)"
   ]
  },
  {
   "cell_type": "code",
   "execution_count": 124,
   "metadata": {},
   "outputs": [
    {
     "name": "stdout",
     "output_type": "stream",
     "text": [
      "CPU times: user 411 ms, sys: 17.3 ms, total: 428 ms\n",
      "Wall time: 426 ms\n"
     ]
    }
   ],
   "source": [
    "%%time\n",
    "\n",
    "test_df['abs_unique_sites'] = test_df['site1'].apply(lambda x: int(x in abs_unique_sites)) +\\\n",
    "                               test_df['site2'].apply(lambda x: int(x in abs_unique_sites)) +\\\n",
    "                               test_df['site3'].apply(lambda x: int(x in abs_unique_sites)) +\\\n",
    "                               test_df['site4'].apply(lambda x: int(x in abs_unique_sites)) +\\\n",
    "                               test_df['site5'].apply(lambda x: int(x in abs_unique_sites)) +\\\n",
    "                               test_df['site6'].apply(lambda x: int(x in abs_unique_sites)) +\\\n",
    "                               test_df['site7'].apply(lambda x: int(x in abs_unique_sites)) +\\\n",
    "                               test_df['site8'].apply(lambda x: int(x in abs_unique_sites)) +\\\n",
    "                               test_df['site9'].apply(lambda x: int(x in abs_unique_sites)) +\\\n",
    "                               test_df['site10'].apply(lambda x: int(x in abs_unique_sites))\n",
    "test_df['abs_unique_sites'] = (test_df['abs_unique_sites'] > 0 ).astype(int)"
   ]
  },
  {
   "cell_type": "code",
   "execution_count": 126,
   "metadata": {},
   "outputs": [
    {
     "name": "stdout",
     "output_type": "stream",
     "text": [
      "CPU times: user 1min 48s, sys: 2.94 s, total: 1min 51s\n",
      "Wall time: 52.4 s\n"
     ]
    },
    {
     "data": {
      "text/plain": [
       "'Done!'"
      ]
     },
     "execution_count": 126,
     "metadata": {},
     "output_type": "execute_result"
    }
   ],
   "source": [
    "%%time\n",
    "\n",
    "n_ngram = 3\n",
    "\n",
    "# domens\n",
    "tfidf_domen = TfidfVectorizer(ngram_range=(1, n_ngram))\n",
    "X_domens_tfidf = tfidf_domen.fit_transform(X_domens)\n",
    "test_domens_tfidf = tfidf_domen.transform(test_domens)\n",
    "\n",
    "# sites\n",
    "tfidf = TfidfVectorizer(ngram_range=(1, n_ngram), max_features=50000)\n",
    "X_sites_tfidf = tfidf.fit_transform(X_sites)\n",
    "test_sites_tfidf = tfidf.transform(test_sites)\n",
    "\n",
    "#mean time of session\n",
    "st = StandardScaler()\n",
    "time_of_session_train = st.fit_transform(tmp_time['time_of_session'].values.reshape(-1, 1))\n",
    "time_of_session_test = st.transform(tmp_time_test['time_of_session'].values.reshape(-1, 1))\n",
    "\n",
    "# #number unique sites for session\n",
    "# st = StandardScaler()\n",
    "# unique_sites_train = st.fit_transform(train_df['unique_sites'].values.reshape(-1, 1))\n",
    "# unique_sites_test = st.transform(test_df['unique_sites'].values.reshape(-1, 1))\n",
    "\n",
    "# # has session any of top-10 popular site or not\n",
    "# have_top_10_train = train_df['have_top_10'].values.reshape(-1, 1)\n",
    "# have_top_10_test = test_df['have_top_10'].values.reshape(-1, 1)\n",
    "\n",
    "# num notnull sites in session\n",
    "st = StandardScaler()\n",
    "num_notnull_train = st.fit_transform(tmp_time['num_notnull'].values.reshape(-1, 1))\n",
    "num_notnull_test = st.transform(tmp_time_test['num_notnull'].values.reshape(-1, 1))\n",
    "\n",
    "# time_diffs within session\n",
    "time_diffs = [f\"time_diff{i}\" for i in range (1, 10)]\n",
    "st = StandardScaler()\n",
    "time_diffs_train = st.fit_transform(tmp_time[time_diffs].values)\n",
    "time_diffs_test = st.transform(tmp_time_test[time_diffs].values)\n",
    "\n",
    "# month\n",
    "ohe = OneHotEncoder()\n",
    "month_train = ohe.fit_transform(train_df.time1.apply(lambda x: pd.to_datetime(x).month).values.reshape(-1, 1))\n",
    "month_test = ohe.transform(test_df.time1.apply(lambda x: pd.to_datetime(x).month).values.reshape(-1, 1))\n",
    "\n",
    "\n",
    "X_train_tmp = hstack((X_sites_tfidf, X_domens_tfidf, time_of_session_train, \n",
    "                      time_diffs_train, num_notnull_train, month_train))\n",
    "# X_train_tmp = hstack((X_train_tmp, \n",
    "#             coo_matrix(pd.get_dummies(train_df.time1.apply(lambda x: pd.to_datetime(x).dayofweek)).values)))\n",
    "X_train_tmp = hstack((X_train_tmp, \n",
    "                     coo_matrix(train_df.time1.apply(lambda x: pd.to_datetime(x).dayofweek)).T))\n",
    "X_train_tmp = hstack((X_train_tmp, \n",
    "                     coo_matrix(train_df.time1.apply(lambda x: \n",
    "                                                            pd.to_datetime(x).dayofweek in [0]).astype(int)).T))\n",
    "morning, day, evening, night = define_part_of_day(train_df)\n",
    "X_train_tmp = hstack([X_train_tmp, morning.values.reshape(-1, 1), \n",
    "                                   day.values.reshape(-1, 1), \n",
    "                                   evening.values.reshape(-1, 1), \n",
    "                                   night.values.reshape(-1, 1)])\n",
    "\n",
    "X_test_tmp = hstack((test_sites_tfidf, test_domens_tfidf, time_of_session_test,\n",
    "                     time_diffs_test, num_notnull_test, month_test))\n",
    "# X_test_tmp = hstack((X_test_tmp, \n",
    "#             coo_matrix(pd.get_dummies(test_df.time1.apply(lambda x: pd.to_datetime(x).dayofweek)).values)))\n",
    "X_test_tmp = hstack((X_test_tmp, \n",
    "                     coo_matrix(test_df.time1.apply(lambda x: pd.to_datetime(x).dayofweek)).T))\n",
    "X_test_tmp = hstack((X_test_tmp, \n",
    "                     coo_matrix(test_df.time1.apply(lambda x: \n",
    "                                                            pd.to_datetime(x).dayofweek in [0]).astype(int)).T))\n",
    "\n",
    "morning, day, evening, night = define_part_of_day(test_df)\n",
    "X_test_tmp = hstack([X_test_tmp, morning.values.reshape(-1, 1), \n",
    "                                   day.values.reshape(-1, 1), \n",
    "                                   evening.values.reshape(-1, 1), \n",
    "                                   night.values.reshape(-1, 1)])\n",
    "\n",
    "get_auc_lr_valid_with_params(X_train_tmp,\n",
    "                 X_test_tmp,\n",
    "                 y, \n",
    "                 C=logit_grid_searcher.best_params_['C'], \n",
    "                 solver=logit_grid_searcher.best_params_['solver'],\n",
    "                 for_test=True, out_file='predictions.csv')"
   ]
  }
 ],
 "metadata": {
  "kernelspec": {
   "display_name": "Python 3",
   "language": "python",
   "name": "python3"
  },
  "language_info": {
   "codemirror_mode": {
    "name": "ipython",
    "version": 3
   },
   "file_extension": ".py",
   "mimetype": "text/x-python",
   "name": "python",
   "nbconvert_exporter": "python",
   "pygments_lexer": "ipython3",
   "version": "3.8.5"
  }
 },
 "nbformat": 4,
 "nbformat_minor": 4
}
